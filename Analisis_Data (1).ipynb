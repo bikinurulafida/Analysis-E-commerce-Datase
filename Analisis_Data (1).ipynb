{
  "cells": [
    {
      "cell_type": "markdown",
      "metadata": {
        "id": "H9wADwK78DCz"
      },
      "source": [
        "# Proyek Analisis Data: [E-commerce Public Dataset]\n",
        "- **Nama:** [Biki Nurul Af'ida]\n",
        "- **Email:** [bikinurul664@gmail.com]\n",
        "- **ID Dicoding:** [MC001D5X2054]"
      ]
    },
    {
      "cell_type": "markdown",
      "metadata": {
        "id": "eE0raob58DC0"
      },
      "source": [
        "## Menentukan Pertanyaan Bisnis"
      ]
    },
    {
      "cell_type": "markdown",
      "metadata": {
        "id": "GmQeQ5YF8DC0"
      },
      "source": [
        "- Pertanyaan 1: Demografi Pelanggan. Di kota mana pelanggan e-commerce paling banyak berasal pada periode September 2016 - Oktober 2018?\n",
        "- Pertanyaan 2: Demografi Seller. Di mana sebagian besar seller e-commerce berada pada periode September 2016 - Oktober 2018?\n",
        "- Pertanyaan 3: Bagaimana tren jumlah transaksi per jam, per hari dalam seminggu, dan per bulan pada periode September 2016 - Oktober 2018?\n",
        "- Pertanyaan 4: Produk apa yang paling sering dibeli pada periode September 2016 - Oktober 2018?\n",
        "- Pertanyaan 5: Kategori produk apa yang paling banyak dibeli oleh pelanggan pada periode September 2016 - Oktober 2018?"
      ]
    },
    {
      "cell_type": "markdown",
      "metadata": {
        "id": "H-z4QGlO8DC1"
      },
      "source": [
        "## Import Semua Packages/Library yang Digunakan"
      ]
    },
    {
      "cell_type": "code",
      "execution_count": 43,
      "metadata": {
        "id": "FVYwaObI8DC1"
      },
      "outputs": [],
      "source": [
        "import numpy as np\n",
        "import pandas as pd\n",
        "import matplotlib.pyplot as plt\n",
        "import seaborn as sns"
      ]
    },
    {
      "cell_type": "markdown",
      "metadata": {
        "id": "h_Sh51Xy8DC1"
      },
      "source": [
        "## Data Wrangling"
      ]
    },
    {
      "cell_type": "markdown",
      "metadata": {
        "id": "sXU2GBYu8DC1"
      },
      "source": [
        "### Gathering Data"
      ]
    },
    {
      "cell_type": "markdown",
      "metadata": {
        "id": "ULIhryv2PHmJ"
      },
      "source": [
        "#### Data Customer"
      ]
    },
    {
      "cell_type": "code",
      "execution_count": 44,
      "metadata": {
        "colab": {
          "base_uri": "https://localhost:8080/",
          "height": 223
        },
        "id": "zjCBk1BI8DC1",
        "outputId": "7ede2255-0def-47af-9ef7-4968bdb62357"
      },
      "outputs": [
        {
          "data": {
            "text/html": [
              "<div>\n",
              "<style scoped>\n",
              "    .dataframe tbody tr th:only-of-type {\n",
              "        vertical-align: middle;\n",
              "    }\n",
              "\n",
              "    .dataframe tbody tr th {\n",
              "        vertical-align: top;\n",
              "    }\n",
              "\n",
              "    .dataframe thead th {\n",
              "        text-align: right;\n",
              "    }\n",
              "</style>\n",
              "<table border=\"1\" class=\"dataframe\">\n",
              "  <thead>\n",
              "    <tr style=\"text-align: right;\">\n",
              "      <th></th>\n",
              "      <th>customer_id</th>\n",
              "      <th>customer_unique_id</th>\n",
              "      <th>customer_zip_code_prefix</th>\n",
              "      <th>customer_city</th>\n",
              "      <th>customer_state</th>\n",
              "    </tr>\n",
              "  </thead>\n",
              "  <tbody>\n",
              "    <tr>\n",
              "      <th>0</th>\n",
              "      <td>06b8999e2fba1a1fbc88172c00ba8bc7</td>\n",
              "      <td>861eff4711a542e4b93843c6dd7febb0</td>\n",
              "      <td>14409</td>\n",
              "      <td>franca</td>\n",
              "      <td>SP</td>\n",
              "    </tr>\n",
              "    <tr>\n",
              "      <th>1</th>\n",
              "      <td>18955e83d337fd6b2def6b18a428ac77</td>\n",
              "      <td>290c77bc529b7ac935b93aa66c333dc3</td>\n",
              "      <td>9790</td>\n",
              "      <td>sao bernardo do campo</td>\n",
              "      <td>SP</td>\n",
              "    </tr>\n",
              "    <tr>\n",
              "      <th>2</th>\n",
              "      <td>4e7b3e00288586ebd08712fdd0374a03</td>\n",
              "      <td>060e732b5b29e8181a18229c7b0b2b5e</td>\n",
              "      <td>1151</td>\n",
              "      <td>sao paulo</td>\n",
              "      <td>SP</td>\n",
              "    </tr>\n",
              "    <tr>\n",
              "      <th>3</th>\n",
              "      <td>b2b6027bc5c5109e529d4dc6358b12c3</td>\n",
              "      <td>259dac757896d24d7702b9acbbff3f3c</td>\n",
              "      <td>8775</td>\n",
              "      <td>mogi das cruzes</td>\n",
              "      <td>SP</td>\n",
              "    </tr>\n",
              "    <tr>\n",
              "      <th>4</th>\n",
              "      <td>4f2d8ab171c80ec8364f7c12e35b23ad</td>\n",
              "      <td>345ecd01c38d18a9036ed96c73b8d066</td>\n",
              "      <td>13056</td>\n",
              "      <td>campinas</td>\n",
              "      <td>SP</td>\n",
              "    </tr>\n",
              "  </tbody>\n",
              "</table>\n",
              "</div>"
            ],
            "text/plain": [
              "                        customer_id                customer_unique_id  \\\n",
              "0  06b8999e2fba1a1fbc88172c00ba8bc7  861eff4711a542e4b93843c6dd7febb0   \n",
              "1  18955e83d337fd6b2def6b18a428ac77  290c77bc529b7ac935b93aa66c333dc3   \n",
              "2  4e7b3e00288586ebd08712fdd0374a03  060e732b5b29e8181a18229c7b0b2b5e   \n",
              "3  b2b6027bc5c5109e529d4dc6358b12c3  259dac757896d24d7702b9acbbff3f3c   \n",
              "4  4f2d8ab171c80ec8364f7c12e35b23ad  345ecd01c38d18a9036ed96c73b8d066   \n",
              "\n",
              "   customer_zip_code_prefix          customer_city customer_state  \n",
              "0                     14409                 franca             SP  \n",
              "1                      9790  sao bernardo do campo             SP  \n",
              "2                      1151              sao paulo             SP  \n",
              "3                      8775        mogi das cruzes             SP  \n",
              "4                     13056               campinas             SP  "
            ]
          },
          "execution_count": 44,
          "metadata": {},
          "output_type": "execute_result"
        }
      ],
      "source": [
        "customers_df = pd.read_csv(\"customers_dataset.csv\")\n",
        "customers_df.head()"
      ]
    },
    {
      "cell_type": "markdown",
      "metadata": {
        "id": "268KQhDVPTbr"
      },
      "source": [
        "#### Data Order Items"
      ]
    },
    {
      "cell_type": "code",
      "execution_count": 45,
      "metadata": {
        "colab": {
          "base_uri": "https://localhost:8080/",
          "height": 226
        },
        "id": "B-ZzVRH5PX2_",
        "outputId": "716df0c3-8c2c-4bd9-a8ac-bd9aa4226361"
      },
      "outputs": [
        {
          "data": {
            "text/html": [
              "<div>\n",
              "<style scoped>\n",
              "    .dataframe tbody tr th:only-of-type {\n",
              "        vertical-align: middle;\n",
              "    }\n",
              "\n",
              "    .dataframe tbody tr th {\n",
              "        vertical-align: top;\n",
              "    }\n",
              "\n",
              "    .dataframe thead th {\n",
              "        text-align: right;\n",
              "    }\n",
              "</style>\n",
              "<table border=\"1\" class=\"dataframe\">\n",
              "  <thead>\n",
              "    <tr style=\"text-align: right;\">\n",
              "      <th></th>\n",
              "      <th>order_id</th>\n",
              "      <th>order_item_id</th>\n",
              "      <th>product_id</th>\n",
              "      <th>seller_id</th>\n",
              "      <th>shipping_limit_date</th>\n",
              "      <th>price</th>\n",
              "      <th>freight_value</th>\n",
              "    </tr>\n",
              "  </thead>\n",
              "  <tbody>\n",
              "    <tr>\n",
              "      <th>0</th>\n",
              "      <td>00010242fe8c5a6d1ba2dd792cb16214</td>\n",
              "      <td>1</td>\n",
              "      <td>4244733e06e7ecb4970a6e2683c13e61</td>\n",
              "      <td>48436dade18ac8b2bce089ec2a041202</td>\n",
              "      <td>2017-09-19 09:45:35</td>\n",
              "      <td>58.90</td>\n",
              "      <td>13.29</td>\n",
              "    </tr>\n",
              "    <tr>\n",
              "      <th>1</th>\n",
              "      <td>00018f77f2f0320c557190d7a144bdd3</td>\n",
              "      <td>1</td>\n",
              "      <td>e5f2d52b802189ee658865ca93d83a8f</td>\n",
              "      <td>dd7ddc04e1b6c2c614352b383efe2d36</td>\n",
              "      <td>2017-05-03 11:05:13</td>\n",
              "      <td>239.90</td>\n",
              "      <td>19.93</td>\n",
              "    </tr>\n",
              "    <tr>\n",
              "      <th>2</th>\n",
              "      <td>000229ec398224ef6ca0657da4fc703e</td>\n",
              "      <td>1</td>\n",
              "      <td>c777355d18b72b67abbeef9df44fd0fd</td>\n",
              "      <td>5b51032eddd242adc84c38acab88f23d</td>\n",
              "      <td>2018-01-18 14:48:30</td>\n",
              "      <td>199.00</td>\n",
              "      <td>17.87</td>\n",
              "    </tr>\n",
              "    <tr>\n",
              "      <th>3</th>\n",
              "      <td>00024acbcdf0a6daa1e931b038114c75</td>\n",
              "      <td>1</td>\n",
              "      <td>7634da152a4610f1595efa32f14722fc</td>\n",
              "      <td>9d7a1d34a5052409006425275ba1c2b4</td>\n",
              "      <td>2018-08-15 10:10:18</td>\n",
              "      <td>12.99</td>\n",
              "      <td>12.79</td>\n",
              "    </tr>\n",
              "    <tr>\n",
              "      <th>4</th>\n",
              "      <td>00042b26cf59d7ce69dfabb4e55b4fd9</td>\n",
              "      <td>1</td>\n",
              "      <td>ac6c3623068f30de03045865e4e10089</td>\n",
              "      <td>df560393f3a51e74553ab94004ba5c87</td>\n",
              "      <td>2017-02-13 13:57:51</td>\n",
              "      <td>199.90</td>\n",
              "      <td>18.14</td>\n",
              "    </tr>\n",
              "  </tbody>\n",
              "</table>\n",
              "</div>"
            ],
            "text/plain": [
              "                           order_id  order_item_id  \\\n",
              "0  00010242fe8c5a6d1ba2dd792cb16214              1   \n",
              "1  00018f77f2f0320c557190d7a144bdd3              1   \n",
              "2  000229ec398224ef6ca0657da4fc703e              1   \n",
              "3  00024acbcdf0a6daa1e931b038114c75              1   \n",
              "4  00042b26cf59d7ce69dfabb4e55b4fd9              1   \n",
              "\n",
              "                         product_id                         seller_id  \\\n",
              "0  4244733e06e7ecb4970a6e2683c13e61  48436dade18ac8b2bce089ec2a041202   \n",
              "1  e5f2d52b802189ee658865ca93d83a8f  dd7ddc04e1b6c2c614352b383efe2d36   \n",
              "2  c777355d18b72b67abbeef9df44fd0fd  5b51032eddd242adc84c38acab88f23d   \n",
              "3  7634da152a4610f1595efa32f14722fc  9d7a1d34a5052409006425275ba1c2b4   \n",
              "4  ac6c3623068f30de03045865e4e10089  df560393f3a51e74553ab94004ba5c87   \n",
              "\n",
              "   shipping_limit_date   price  freight_value  \n",
              "0  2017-09-19 09:45:35   58.90          13.29  \n",
              "1  2017-05-03 11:05:13  239.90          19.93  \n",
              "2  2018-01-18 14:48:30  199.00          17.87  \n",
              "3  2018-08-15 10:10:18   12.99          12.79  \n",
              "4  2017-02-13 13:57:51  199.90          18.14  "
            ]
          },
          "execution_count": 45,
          "metadata": {},
          "output_type": "execute_result"
        }
      ],
      "source": [
        "order_items_df = pd.read_csv(\"order_items_dataset.csv\")\n",
        "order_items_df.head()"
      ]
    },
    {
      "cell_type": "markdown",
      "metadata": {
        "id": "4ZXq2e4OPhdN"
      },
      "source": [
        "#### Data Orders"
      ]
    },
    {
      "cell_type": "code",
      "execution_count": 46,
      "metadata": {
        "colab": {
          "base_uri": "https://localhost:8080/",
          "height": 226
        },
        "id": "MiEWSHBPPjvV",
        "outputId": "babc8e03-c7e0-4331-ab7e-46bdfe292e95"
      },
      "outputs": [
        {
          "data": {
            "text/html": [
              "<div>\n",
              "<style scoped>\n",
              "    .dataframe tbody tr th:only-of-type {\n",
              "        vertical-align: middle;\n",
              "    }\n",
              "\n",
              "    .dataframe tbody tr th {\n",
              "        vertical-align: top;\n",
              "    }\n",
              "\n",
              "    .dataframe thead th {\n",
              "        text-align: right;\n",
              "    }\n",
              "</style>\n",
              "<table border=\"1\" class=\"dataframe\">\n",
              "  <thead>\n",
              "    <tr style=\"text-align: right;\">\n",
              "      <th></th>\n",
              "      <th>order_id</th>\n",
              "      <th>customer_id</th>\n",
              "      <th>order_status</th>\n",
              "      <th>order_purchase_timestamp</th>\n",
              "      <th>order_approved_at</th>\n",
              "      <th>order_delivered_carrier_date</th>\n",
              "      <th>order_delivered_customer_date</th>\n",
              "      <th>order_estimated_delivery_date</th>\n",
              "    </tr>\n",
              "  </thead>\n",
              "  <tbody>\n",
              "    <tr>\n",
              "      <th>0</th>\n",
              "      <td>e481f51cbdc54678b7cc49136f2d6af7</td>\n",
              "      <td>9ef432eb6251297304e76186b10a928d</td>\n",
              "      <td>delivered</td>\n",
              "      <td>2017-10-02 10:56:33</td>\n",
              "      <td>2017-10-02 11:07:15</td>\n",
              "      <td>2017-10-04 19:55:00</td>\n",
              "      <td>2017-10-10 21:25:13</td>\n",
              "      <td>2017-10-18 00:00:00</td>\n",
              "    </tr>\n",
              "    <tr>\n",
              "      <th>1</th>\n",
              "      <td>53cdb2fc8bc7dce0b6741e2150273451</td>\n",
              "      <td>b0830fb4747a6c6d20dea0b8c802d7ef</td>\n",
              "      <td>delivered</td>\n",
              "      <td>2018-07-24 20:41:37</td>\n",
              "      <td>2018-07-26 03:24:27</td>\n",
              "      <td>2018-07-26 14:31:00</td>\n",
              "      <td>2018-08-07 15:27:45</td>\n",
              "      <td>2018-08-13 00:00:00</td>\n",
              "    </tr>\n",
              "    <tr>\n",
              "      <th>2</th>\n",
              "      <td>47770eb9100c2d0c44946d9cf07ec65d</td>\n",
              "      <td>41ce2a54c0b03bf3443c3d931a367089</td>\n",
              "      <td>delivered</td>\n",
              "      <td>2018-08-08 08:38:49</td>\n",
              "      <td>2018-08-08 08:55:23</td>\n",
              "      <td>2018-08-08 13:50:00</td>\n",
              "      <td>2018-08-17 18:06:29</td>\n",
              "      <td>2018-09-04 00:00:00</td>\n",
              "    </tr>\n",
              "    <tr>\n",
              "      <th>3</th>\n",
              "      <td>949d5b44dbf5de918fe9c16f97b45f8a</td>\n",
              "      <td>f88197465ea7920adcdbec7375364d82</td>\n",
              "      <td>delivered</td>\n",
              "      <td>2017-11-18 19:28:06</td>\n",
              "      <td>2017-11-18 19:45:59</td>\n",
              "      <td>2017-11-22 13:39:59</td>\n",
              "      <td>2017-12-02 00:28:42</td>\n",
              "      <td>2017-12-15 00:00:00</td>\n",
              "    </tr>\n",
              "    <tr>\n",
              "      <th>4</th>\n",
              "      <td>ad21c59c0840e6cb83a9ceb5573f8159</td>\n",
              "      <td>8ab97904e6daea8866dbdbc4fb7aad2c</td>\n",
              "      <td>delivered</td>\n",
              "      <td>2018-02-13 21:18:39</td>\n",
              "      <td>2018-02-13 22:20:29</td>\n",
              "      <td>2018-02-14 19:46:34</td>\n",
              "      <td>2018-02-16 18:17:02</td>\n",
              "      <td>2018-02-26 00:00:00</td>\n",
              "    </tr>\n",
              "  </tbody>\n",
              "</table>\n",
              "</div>"
            ],
            "text/plain": [
              "                           order_id                       customer_id  \\\n",
              "0  e481f51cbdc54678b7cc49136f2d6af7  9ef432eb6251297304e76186b10a928d   \n",
              "1  53cdb2fc8bc7dce0b6741e2150273451  b0830fb4747a6c6d20dea0b8c802d7ef   \n",
              "2  47770eb9100c2d0c44946d9cf07ec65d  41ce2a54c0b03bf3443c3d931a367089   \n",
              "3  949d5b44dbf5de918fe9c16f97b45f8a  f88197465ea7920adcdbec7375364d82   \n",
              "4  ad21c59c0840e6cb83a9ceb5573f8159  8ab97904e6daea8866dbdbc4fb7aad2c   \n",
              "\n",
              "  order_status order_purchase_timestamp    order_approved_at  \\\n",
              "0    delivered      2017-10-02 10:56:33  2017-10-02 11:07:15   \n",
              "1    delivered      2018-07-24 20:41:37  2018-07-26 03:24:27   \n",
              "2    delivered      2018-08-08 08:38:49  2018-08-08 08:55:23   \n",
              "3    delivered      2017-11-18 19:28:06  2017-11-18 19:45:59   \n",
              "4    delivered      2018-02-13 21:18:39  2018-02-13 22:20:29   \n",
              "\n",
              "  order_delivered_carrier_date order_delivered_customer_date  \\\n",
              "0          2017-10-04 19:55:00           2017-10-10 21:25:13   \n",
              "1          2018-07-26 14:31:00           2018-08-07 15:27:45   \n",
              "2          2018-08-08 13:50:00           2018-08-17 18:06:29   \n",
              "3          2017-11-22 13:39:59           2017-12-02 00:28:42   \n",
              "4          2018-02-14 19:46:34           2018-02-16 18:17:02   \n",
              "\n",
              "  order_estimated_delivery_date  \n",
              "0           2017-10-18 00:00:00  \n",
              "1           2018-08-13 00:00:00  \n",
              "2           2018-09-04 00:00:00  \n",
              "3           2017-12-15 00:00:00  \n",
              "4           2018-02-26 00:00:00  "
            ]
          },
          "execution_count": 46,
          "metadata": {},
          "output_type": "execute_result"
        }
      ],
      "source": [
        "orders_df = pd.read_csv(\"orders_dataset.csv\")\n",
        "orders_df.head()"
      ]
    },
    {
      "cell_type": "markdown",
      "metadata": {
        "id": "syxz91mzPlqP"
      },
      "source": [
        "#### Data Product Category Name Translation"
      ]
    },
    {
      "cell_type": "code",
      "execution_count": 47,
      "metadata": {
        "colab": {
          "base_uri": "https://localhost:8080/",
          "height": 206
        },
        "id": "LwvIGy0HPpEG",
        "outputId": "154a999c-6b0f-4a20-fea2-c2a8c9763613"
      },
      "outputs": [
        {
          "data": {
            "text/html": [
              "<div>\n",
              "<style scoped>\n",
              "    .dataframe tbody tr th:only-of-type {\n",
              "        vertical-align: middle;\n",
              "    }\n",
              "\n",
              "    .dataframe tbody tr th {\n",
              "        vertical-align: top;\n",
              "    }\n",
              "\n",
              "    .dataframe thead th {\n",
              "        text-align: right;\n",
              "    }\n",
              "</style>\n",
              "<table border=\"1\" class=\"dataframe\">\n",
              "  <thead>\n",
              "    <tr style=\"text-align: right;\">\n",
              "      <th></th>\n",
              "      <th>product_category_name</th>\n",
              "      <th>product_category_name_english</th>\n",
              "    </tr>\n",
              "  </thead>\n",
              "  <tbody>\n",
              "    <tr>\n",
              "      <th>0</th>\n",
              "      <td>beleza_saude</td>\n",
              "      <td>health_beauty</td>\n",
              "    </tr>\n",
              "    <tr>\n",
              "      <th>1</th>\n",
              "      <td>informatica_acessorios</td>\n",
              "      <td>computers_accessories</td>\n",
              "    </tr>\n",
              "    <tr>\n",
              "      <th>2</th>\n",
              "      <td>automotivo</td>\n",
              "      <td>auto</td>\n",
              "    </tr>\n",
              "    <tr>\n",
              "      <th>3</th>\n",
              "      <td>cama_mesa_banho</td>\n",
              "      <td>bed_bath_table</td>\n",
              "    </tr>\n",
              "    <tr>\n",
              "      <th>4</th>\n",
              "      <td>moveis_decoracao</td>\n",
              "      <td>furniture_decor</td>\n",
              "    </tr>\n",
              "  </tbody>\n",
              "</table>\n",
              "</div>"
            ],
            "text/plain": [
              "    product_category_name product_category_name_english\n",
              "0            beleza_saude                 health_beauty\n",
              "1  informatica_acessorios         computers_accessories\n",
              "2              automotivo                          auto\n",
              "3         cama_mesa_banho                bed_bath_table\n",
              "4        moveis_decoracao               furniture_decor"
            ]
          },
          "execution_count": 47,
          "metadata": {},
          "output_type": "execute_result"
        }
      ],
      "source": [
        "product_category_df = pd.read_csv(\"product_category_name_translation.csv\")\n",
        "product_category_df.head()"
      ]
    },
    {
      "cell_type": "markdown",
      "metadata": {
        "id": "WUyV4SM7Pq2Q"
      },
      "source": [
        "#### Data Products"
      ]
    },
    {
      "cell_type": "code",
      "execution_count": 48,
      "metadata": {
        "colab": {
          "base_uri": "https://localhost:8080/",
          "height": 226
        },
        "id": "2u-uwK5yPsmz",
        "outputId": "2e444d5c-bb21-486c-8286-c70eca02131f"
      },
      "outputs": [
        {
          "data": {
            "text/html": [
              "<div>\n",
              "<style scoped>\n",
              "    .dataframe tbody tr th:only-of-type {\n",
              "        vertical-align: middle;\n",
              "    }\n",
              "\n",
              "    .dataframe tbody tr th {\n",
              "        vertical-align: top;\n",
              "    }\n",
              "\n",
              "    .dataframe thead th {\n",
              "        text-align: right;\n",
              "    }\n",
              "</style>\n",
              "<table border=\"1\" class=\"dataframe\">\n",
              "  <thead>\n",
              "    <tr style=\"text-align: right;\">\n",
              "      <th></th>\n",
              "      <th>product_id</th>\n",
              "      <th>product_category_name</th>\n",
              "      <th>product_name_lenght</th>\n",
              "      <th>product_description_lenght</th>\n",
              "      <th>product_photos_qty</th>\n",
              "      <th>product_weight_g</th>\n",
              "      <th>product_length_cm</th>\n",
              "      <th>product_height_cm</th>\n",
              "      <th>product_width_cm</th>\n",
              "    </tr>\n",
              "  </thead>\n",
              "  <tbody>\n",
              "    <tr>\n",
              "      <th>0</th>\n",
              "      <td>1e9e8ef04dbcff4541ed26657ea517e5</td>\n",
              "      <td>perfumaria</td>\n",
              "      <td>40.0</td>\n",
              "      <td>287.0</td>\n",
              "      <td>1.0</td>\n",
              "      <td>225.0</td>\n",
              "      <td>16.0</td>\n",
              "      <td>10.0</td>\n",
              "      <td>14.0</td>\n",
              "    </tr>\n",
              "    <tr>\n",
              "      <th>1</th>\n",
              "      <td>3aa071139cb16b67ca9e5dea641aaa2f</td>\n",
              "      <td>artes</td>\n",
              "      <td>44.0</td>\n",
              "      <td>276.0</td>\n",
              "      <td>1.0</td>\n",
              "      <td>1000.0</td>\n",
              "      <td>30.0</td>\n",
              "      <td>18.0</td>\n",
              "      <td>20.0</td>\n",
              "    </tr>\n",
              "    <tr>\n",
              "      <th>2</th>\n",
              "      <td>96bd76ec8810374ed1b65e291975717f</td>\n",
              "      <td>esporte_lazer</td>\n",
              "      <td>46.0</td>\n",
              "      <td>250.0</td>\n",
              "      <td>1.0</td>\n",
              "      <td>154.0</td>\n",
              "      <td>18.0</td>\n",
              "      <td>9.0</td>\n",
              "      <td>15.0</td>\n",
              "    </tr>\n",
              "    <tr>\n",
              "      <th>3</th>\n",
              "      <td>cef67bcfe19066a932b7673e239eb23d</td>\n",
              "      <td>bebes</td>\n",
              "      <td>27.0</td>\n",
              "      <td>261.0</td>\n",
              "      <td>1.0</td>\n",
              "      <td>371.0</td>\n",
              "      <td>26.0</td>\n",
              "      <td>4.0</td>\n",
              "      <td>26.0</td>\n",
              "    </tr>\n",
              "    <tr>\n",
              "      <th>4</th>\n",
              "      <td>9dc1a7de274444849c219cff195d0b71</td>\n",
              "      <td>utilidades_domesticas</td>\n",
              "      <td>37.0</td>\n",
              "      <td>402.0</td>\n",
              "      <td>4.0</td>\n",
              "      <td>625.0</td>\n",
              "      <td>20.0</td>\n",
              "      <td>17.0</td>\n",
              "      <td>13.0</td>\n",
              "    </tr>\n",
              "  </tbody>\n",
              "</table>\n",
              "</div>"
            ],
            "text/plain": [
              "                         product_id  product_category_name  \\\n",
              "0  1e9e8ef04dbcff4541ed26657ea517e5             perfumaria   \n",
              "1  3aa071139cb16b67ca9e5dea641aaa2f                  artes   \n",
              "2  96bd76ec8810374ed1b65e291975717f          esporte_lazer   \n",
              "3  cef67bcfe19066a932b7673e239eb23d                  bebes   \n",
              "4  9dc1a7de274444849c219cff195d0b71  utilidades_domesticas   \n",
              "\n",
              "   product_name_lenght  product_description_lenght  product_photos_qty  \\\n",
              "0                 40.0                       287.0                 1.0   \n",
              "1                 44.0                       276.0                 1.0   \n",
              "2                 46.0                       250.0                 1.0   \n",
              "3                 27.0                       261.0                 1.0   \n",
              "4                 37.0                       402.0                 4.0   \n",
              "\n",
              "   product_weight_g  product_length_cm  product_height_cm  product_width_cm  \n",
              "0             225.0               16.0               10.0              14.0  \n",
              "1            1000.0               30.0               18.0              20.0  \n",
              "2             154.0               18.0                9.0              15.0  \n",
              "3             371.0               26.0                4.0              26.0  \n",
              "4             625.0               20.0               17.0              13.0  "
            ]
          },
          "execution_count": 48,
          "metadata": {},
          "output_type": "execute_result"
        }
      ],
      "source": [
        "products_df = pd.read_csv(\"products_dataset.csv\")\n",
        "products_df.head()"
      ]
    },
    {
      "cell_type": "markdown",
      "metadata": {
        "id": "-0OyIx-UPxaC"
      },
      "source": [
        "#### Data Sellers"
      ]
    },
    {
      "cell_type": "code",
      "execution_count": 49,
      "metadata": {
        "colab": {
          "base_uri": "https://localhost:8080/",
          "height": 206
        },
        "id": "0zi2Y2djPzDT",
        "outputId": "f426f699-8cd8-44a0-e042-e36b87075594"
      },
      "outputs": [
        {
          "data": {
            "text/html": [
              "<div>\n",
              "<style scoped>\n",
              "    .dataframe tbody tr th:only-of-type {\n",
              "        vertical-align: middle;\n",
              "    }\n",
              "\n",
              "    .dataframe tbody tr th {\n",
              "        vertical-align: top;\n",
              "    }\n",
              "\n",
              "    .dataframe thead th {\n",
              "        text-align: right;\n",
              "    }\n",
              "</style>\n",
              "<table border=\"1\" class=\"dataframe\">\n",
              "  <thead>\n",
              "    <tr style=\"text-align: right;\">\n",
              "      <th></th>\n",
              "      <th>seller_id</th>\n",
              "      <th>seller_zip_code_prefix</th>\n",
              "      <th>seller_city</th>\n",
              "      <th>seller_state</th>\n",
              "    </tr>\n",
              "  </thead>\n",
              "  <tbody>\n",
              "    <tr>\n",
              "      <th>0</th>\n",
              "      <td>3442f8959a84dea7ee197c632cb2df15</td>\n",
              "      <td>13023</td>\n",
              "      <td>campinas</td>\n",
              "      <td>SP</td>\n",
              "    </tr>\n",
              "    <tr>\n",
              "      <th>1</th>\n",
              "      <td>d1b65fc7debc3361ea86b5f14c68d2e2</td>\n",
              "      <td>13844</td>\n",
              "      <td>mogi guacu</td>\n",
              "      <td>SP</td>\n",
              "    </tr>\n",
              "    <tr>\n",
              "      <th>2</th>\n",
              "      <td>ce3ad9de960102d0677a81f5d0bb7b2d</td>\n",
              "      <td>20031</td>\n",
              "      <td>rio de janeiro</td>\n",
              "      <td>RJ</td>\n",
              "    </tr>\n",
              "    <tr>\n",
              "      <th>3</th>\n",
              "      <td>c0f3eea2e14555b6faeea3dd58c1b1c3</td>\n",
              "      <td>4195</td>\n",
              "      <td>sao paulo</td>\n",
              "      <td>SP</td>\n",
              "    </tr>\n",
              "    <tr>\n",
              "      <th>4</th>\n",
              "      <td>51a04a8a6bdcb23deccc82b0b80742cf</td>\n",
              "      <td>12914</td>\n",
              "      <td>braganca paulista</td>\n",
              "      <td>SP</td>\n",
              "    </tr>\n",
              "  </tbody>\n",
              "</table>\n",
              "</div>"
            ],
            "text/plain": [
              "                          seller_id  seller_zip_code_prefix  \\\n",
              "0  3442f8959a84dea7ee197c632cb2df15                   13023   \n",
              "1  d1b65fc7debc3361ea86b5f14c68d2e2                   13844   \n",
              "2  ce3ad9de960102d0677a81f5d0bb7b2d                   20031   \n",
              "3  c0f3eea2e14555b6faeea3dd58c1b1c3                    4195   \n",
              "4  51a04a8a6bdcb23deccc82b0b80742cf                   12914   \n",
              "\n",
              "         seller_city seller_state  \n",
              "0           campinas           SP  \n",
              "1         mogi guacu           SP  \n",
              "2     rio de janeiro           RJ  \n",
              "3          sao paulo           SP  \n",
              "4  braganca paulista           SP  "
            ]
          },
          "execution_count": 49,
          "metadata": {},
          "output_type": "execute_result"
        }
      ],
      "source": [
        "sellers_df = pd.read_csv(\"sellers_dataset.csv\")\n",
        "sellers_df.head()"
      ]
    },
    {
      "cell_type": "markdown",
      "metadata": {
        "id": "FNv7Ydc2QJh0"
      },
      "source": [
        "#### Gabung Semua Dataset"
      ]
    },
    {
      "cell_type": "code",
      "execution_count": 50,
      "metadata": {
        "id": "6NDAzbgWQLtc"
      },
      "outputs": [],
      "source": [
        "merged_df = orders_df.merge(customers_df, on='customer_id', how='left')\n",
        "merged_df = merged_df.merge(order_items_df, on='order_id', how='left')\n",
        "merged_df = merged_df.merge(products_df, on='product_id', how='left')\n",
        "merged_df = merged_df.merge(product_category_df, on='product_category_name', how='left')\n",
        "merged_df = merged_df.merge(sellers_df, on='seller_id', how='left')"
      ]
    },
    {
      "cell_type": "code",
      "execution_count": 51,
      "metadata": {
        "colab": {
          "base_uri": "https://localhost:8080/",
          "height": 307
        },
        "id": "hbVRyUcrQN88",
        "outputId": "c4ee4aba-75e0-450f-ea48-92aaa2f5ac94"
      },
      "outputs": [
        {
          "data": {
            "text/html": [
              "<div>\n",
              "<style scoped>\n",
              "    .dataframe tbody tr th:only-of-type {\n",
              "        vertical-align: middle;\n",
              "    }\n",
              "\n",
              "    .dataframe tbody tr th {\n",
              "        vertical-align: top;\n",
              "    }\n",
              "\n",
              "    .dataframe thead th {\n",
              "        text-align: right;\n",
              "    }\n",
              "</style>\n",
              "<table border=\"1\" class=\"dataframe\">\n",
              "  <thead>\n",
              "    <tr style=\"text-align: right;\">\n",
              "      <th></th>\n",
              "      <th>order_id</th>\n",
              "      <th>customer_id</th>\n",
              "      <th>order_status</th>\n",
              "      <th>order_purchase_timestamp</th>\n",
              "      <th>order_approved_at</th>\n",
              "      <th>order_delivered_carrier_date</th>\n",
              "      <th>order_delivered_customer_date</th>\n",
              "      <th>order_estimated_delivery_date</th>\n",
              "      <th>customer_unique_id</th>\n",
              "      <th>customer_zip_code_prefix</th>\n",
              "      <th>...</th>\n",
              "      <th>product_description_lenght</th>\n",
              "      <th>product_photos_qty</th>\n",
              "      <th>product_weight_g</th>\n",
              "      <th>product_length_cm</th>\n",
              "      <th>product_height_cm</th>\n",
              "      <th>product_width_cm</th>\n",
              "      <th>product_category_name_english</th>\n",
              "      <th>seller_zip_code_prefix</th>\n",
              "      <th>seller_city</th>\n",
              "      <th>seller_state</th>\n",
              "    </tr>\n",
              "  </thead>\n",
              "  <tbody>\n",
              "    <tr>\n",
              "      <th>0</th>\n",
              "      <td>e481f51cbdc54678b7cc49136f2d6af7</td>\n",
              "      <td>9ef432eb6251297304e76186b10a928d</td>\n",
              "      <td>delivered</td>\n",
              "      <td>2017-10-02 10:56:33</td>\n",
              "      <td>2017-10-02 11:07:15</td>\n",
              "      <td>2017-10-04 19:55:00</td>\n",
              "      <td>2017-10-10 21:25:13</td>\n",
              "      <td>2017-10-18 00:00:00</td>\n",
              "      <td>7c396fd4830fd04220f754e42b4e5bff</td>\n",
              "      <td>3149</td>\n",
              "      <td>...</td>\n",
              "      <td>268.0</td>\n",
              "      <td>4.0</td>\n",
              "      <td>500.0</td>\n",
              "      <td>19.0</td>\n",
              "      <td>8.0</td>\n",
              "      <td>13.0</td>\n",
              "      <td>housewares</td>\n",
              "      <td>9350.0</td>\n",
              "      <td>maua</td>\n",
              "      <td>SP</td>\n",
              "    </tr>\n",
              "    <tr>\n",
              "      <th>1</th>\n",
              "      <td>53cdb2fc8bc7dce0b6741e2150273451</td>\n",
              "      <td>b0830fb4747a6c6d20dea0b8c802d7ef</td>\n",
              "      <td>delivered</td>\n",
              "      <td>2018-07-24 20:41:37</td>\n",
              "      <td>2018-07-26 03:24:27</td>\n",
              "      <td>2018-07-26 14:31:00</td>\n",
              "      <td>2018-08-07 15:27:45</td>\n",
              "      <td>2018-08-13 00:00:00</td>\n",
              "      <td>af07308b275d755c9edb36a90c618231</td>\n",
              "      <td>47813</td>\n",
              "      <td>...</td>\n",
              "      <td>178.0</td>\n",
              "      <td>1.0</td>\n",
              "      <td>400.0</td>\n",
              "      <td>19.0</td>\n",
              "      <td>13.0</td>\n",
              "      <td>19.0</td>\n",
              "      <td>perfumery</td>\n",
              "      <td>31570.0</td>\n",
              "      <td>belo horizonte</td>\n",
              "      <td>SP</td>\n",
              "    </tr>\n",
              "    <tr>\n",
              "      <th>2</th>\n",
              "      <td>47770eb9100c2d0c44946d9cf07ec65d</td>\n",
              "      <td>41ce2a54c0b03bf3443c3d931a367089</td>\n",
              "      <td>delivered</td>\n",
              "      <td>2018-08-08 08:38:49</td>\n",
              "      <td>2018-08-08 08:55:23</td>\n",
              "      <td>2018-08-08 13:50:00</td>\n",
              "      <td>2018-08-17 18:06:29</td>\n",
              "      <td>2018-09-04 00:00:00</td>\n",
              "      <td>3a653a41f6f9fc3d2a113cf8398680e8</td>\n",
              "      <td>75265</td>\n",
              "      <td>...</td>\n",
              "      <td>232.0</td>\n",
              "      <td>1.0</td>\n",
              "      <td>420.0</td>\n",
              "      <td>24.0</td>\n",
              "      <td>19.0</td>\n",
              "      <td>21.0</td>\n",
              "      <td>auto</td>\n",
              "      <td>14840.0</td>\n",
              "      <td>guariba</td>\n",
              "      <td>SP</td>\n",
              "    </tr>\n",
              "    <tr>\n",
              "      <th>3</th>\n",
              "      <td>949d5b44dbf5de918fe9c16f97b45f8a</td>\n",
              "      <td>f88197465ea7920adcdbec7375364d82</td>\n",
              "      <td>delivered</td>\n",
              "      <td>2017-11-18 19:28:06</td>\n",
              "      <td>2017-11-18 19:45:59</td>\n",
              "      <td>2017-11-22 13:39:59</td>\n",
              "      <td>2017-12-02 00:28:42</td>\n",
              "      <td>2017-12-15 00:00:00</td>\n",
              "      <td>7c142cf63193a1473d2e66489a9ae977</td>\n",
              "      <td>59296</td>\n",
              "      <td>...</td>\n",
              "      <td>468.0</td>\n",
              "      <td>3.0</td>\n",
              "      <td>450.0</td>\n",
              "      <td>30.0</td>\n",
              "      <td>10.0</td>\n",
              "      <td>20.0</td>\n",
              "      <td>pet_shop</td>\n",
              "      <td>31842.0</td>\n",
              "      <td>belo horizonte</td>\n",
              "      <td>MG</td>\n",
              "    </tr>\n",
              "    <tr>\n",
              "      <th>4</th>\n",
              "      <td>ad21c59c0840e6cb83a9ceb5573f8159</td>\n",
              "      <td>8ab97904e6daea8866dbdbc4fb7aad2c</td>\n",
              "      <td>delivered</td>\n",
              "      <td>2018-02-13 21:18:39</td>\n",
              "      <td>2018-02-13 22:20:29</td>\n",
              "      <td>2018-02-14 19:46:34</td>\n",
              "      <td>2018-02-16 18:17:02</td>\n",
              "      <td>2018-02-26 00:00:00</td>\n",
              "      <td>72632f0f9dd73dfee390c9b22eb56dd6</td>\n",
              "      <td>9195</td>\n",
              "      <td>...</td>\n",
              "      <td>316.0</td>\n",
              "      <td>4.0</td>\n",
              "      <td>250.0</td>\n",
              "      <td>51.0</td>\n",
              "      <td>15.0</td>\n",
              "      <td>15.0</td>\n",
              "      <td>stationery</td>\n",
              "      <td>8752.0</td>\n",
              "      <td>mogi das cruzes</td>\n",
              "      <td>SP</td>\n",
              "    </tr>\n",
              "  </tbody>\n",
              "</table>\n",
              "<p>5 rows × 30 columns</p>\n",
              "</div>"
            ],
            "text/plain": [
              "                           order_id                       customer_id  \\\n",
              "0  e481f51cbdc54678b7cc49136f2d6af7  9ef432eb6251297304e76186b10a928d   \n",
              "1  53cdb2fc8bc7dce0b6741e2150273451  b0830fb4747a6c6d20dea0b8c802d7ef   \n",
              "2  47770eb9100c2d0c44946d9cf07ec65d  41ce2a54c0b03bf3443c3d931a367089   \n",
              "3  949d5b44dbf5de918fe9c16f97b45f8a  f88197465ea7920adcdbec7375364d82   \n",
              "4  ad21c59c0840e6cb83a9ceb5573f8159  8ab97904e6daea8866dbdbc4fb7aad2c   \n",
              "\n",
              "  order_status order_purchase_timestamp    order_approved_at  \\\n",
              "0    delivered      2017-10-02 10:56:33  2017-10-02 11:07:15   \n",
              "1    delivered      2018-07-24 20:41:37  2018-07-26 03:24:27   \n",
              "2    delivered      2018-08-08 08:38:49  2018-08-08 08:55:23   \n",
              "3    delivered      2017-11-18 19:28:06  2017-11-18 19:45:59   \n",
              "4    delivered      2018-02-13 21:18:39  2018-02-13 22:20:29   \n",
              "\n",
              "  order_delivered_carrier_date order_delivered_customer_date  \\\n",
              "0          2017-10-04 19:55:00           2017-10-10 21:25:13   \n",
              "1          2018-07-26 14:31:00           2018-08-07 15:27:45   \n",
              "2          2018-08-08 13:50:00           2018-08-17 18:06:29   \n",
              "3          2017-11-22 13:39:59           2017-12-02 00:28:42   \n",
              "4          2018-02-14 19:46:34           2018-02-16 18:17:02   \n",
              "\n",
              "  order_estimated_delivery_date                customer_unique_id  \\\n",
              "0           2017-10-18 00:00:00  7c396fd4830fd04220f754e42b4e5bff   \n",
              "1           2018-08-13 00:00:00  af07308b275d755c9edb36a90c618231   \n",
              "2           2018-09-04 00:00:00  3a653a41f6f9fc3d2a113cf8398680e8   \n",
              "3           2017-12-15 00:00:00  7c142cf63193a1473d2e66489a9ae977   \n",
              "4           2018-02-26 00:00:00  72632f0f9dd73dfee390c9b22eb56dd6   \n",
              "\n",
              "   customer_zip_code_prefix  ... product_description_lenght  \\\n",
              "0                      3149  ...                      268.0   \n",
              "1                     47813  ...                      178.0   \n",
              "2                     75265  ...                      232.0   \n",
              "3                     59296  ...                      468.0   \n",
              "4                      9195  ...                      316.0   \n",
              "\n",
              "  product_photos_qty  product_weight_g product_length_cm product_height_cm  \\\n",
              "0                4.0             500.0              19.0               8.0   \n",
              "1                1.0             400.0              19.0              13.0   \n",
              "2                1.0             420.0              24.0              19.0   \n",
              "3                3.0             450.0              30.0              10.0   \n",
              "4                4.0             250.0              51.0              15.0   \n",
              "\n",
              "  product_width_cm  product_category_name_english  seller_zip_code_prefix  \\\n",
              "0             13.0                     housewares                  9350.0   \n",
              "1             19.0                      perfumery                 31570.0   \n",
              "2             21.0                           auto                 14840.0   \n",
              "3             20.0                       pet_shop                 31842.0   \n",
              "4             15.0                     stationery                  8752.0   \n",
              "\n",
              "       seller_city  seller_state  \n",
              "0             maua            SP  \n",
              "1   belo horizonte            SP  \n",
              "2          guariba            SP  \n",
              "3   belo horizonte            MG  \n",
              "4  mogi das cruzes            SP  \n",
              "\n",
              "[5 rows x 30 columns]"
            ]
          },
          "execution_count": 51,
          "metadata": {},
          "output_type": "execute_result"
        }
      ],
      "source": [
        "merged_df.head()"
      ]
    },
    {
      "cell_type": "markdown",
      "metadata": {
        "id": "MMi6xGaDkbCi"
      },
      "source": [
        "**Insight:**\n",
        "- Semua dataset yang akan digunakan sudah dikumpulkan\n",
        "- Terdapat dataset customer, dataset order items, dataset orders, dataset product category name translation, dataset products, dan dataset sellers.\n",
        "- Semua dataset digabung menjadi satu dengan nama merged_df"
      ]
    },
    {
      "cell_type": "markdown",
      "metadata": {
        "id": "FHSiqaZp8DC1"
      },
      "source": [
        "### Assessing Data"
      ]
    },
    {
      "cell_type": "code",
      "execution_count": 52,
      "metadata": {
        "colab": {
          "base_uri": "https://localhost:8080/"
        },
        "id": "ax-3tEjc9Cj1",
        "outputId": "6cc2f603-2da1-4e14-a40c-1d67bff83385"
      },
      "outputs": [
        {
          "name": "stdout",
          "output_type": "stream",
          "text": [
            "<class 'pandas.core.frame.DataFrame'>\n",
            "RangeIndex: 113425 entries, 0 to 113424\n",
            "Data columns (total 30 columns):\n",
            " #   Column                         Non-Null Count   Dtype  \n",
            "---  ------                         --------------   -----  \n",
            " 0   order_id                       113425 non-null  object \n",
            " 1   customer_id                    113425 non-null  object \n",
            " 2   order_status                   113425 non-null  object \n",
            " 3   order_purchase_timestamp       113425 non-null  object \n",
            " 4   order_approved_at              113264 non-null  object \n",
            " 5   order_delivered_carrier_date   111457 non-null  object \n",
            " 6   order_delivered_customer_date  110196 non-null  object \n",
            " 7   order_estimated_delivery_date  113425 non-null  object \n",
            " 8   customer_unique_id             113425 non-null  object \n",
            " 9   customer_zip_code_prefix       113425 non-null  int64  \n",
            " 10  customer_city                  113425 non-null  object \n",
            " 11  customer_state                 113425 non-null  object \n",
            " 12  order_item_id                  112650 non-null  float64\n",
            " 13  product_id                     112650 non-null  object \n",
            " 14  seller_id                      112650 non-null  object \n",
            " 15  shipping_limit_date            112650 non-null  object \n",
            " 16  price                          112650 non-null  float64\n",
            " 17  freight_value                  112650 non-null  float64\n",
            " 18  product_category_name          111047 non-null  object \n",
            " 19  product_name_lenght            111047 non-null  float64\n",
            " 20  product_description_lenght     111047 non-null  float64\n",
            " 21  product_photos_qty             111047 non-null  float64\n",
            " 22  product_weight_g               112632 non-null  float64\n",
            " 23  product_length_cm              112632 non-null  float64\n",
            " 24  product_height_cm              112632 non-null  float64\n",
            " 25  product_width_cm               112632 non-null  float64\n",
            " 26  product_category_name_english  111023 non-null  object \n",
            " 27  seller_zip_code_prefix         112650 non-null  float64\n",
            " 28  seller_city                    112650 non-null  object \n",
            " 29  seller_state                   112650 non-null  object \n",
            "dtypes: float64(11), int64(1), object(18)\n",
            "memory usage: 26.0+ MB\n"
          ]
        }
      ],
      "source": [
        "merged_df.info()"
      ]
    },
    {
      "cell_type": "code",
      "execution_count": 53,
      "metadata": {
        "colab": {
          "base_uri": "https://localhost:8080/",
          "height": 1000
        },
        "id": "2nr-_x36RCqV",
        "outputId": "31e08c82-fb5c-46b5-945b-ca4443d59bc2"
      },
      "outputs": [
        {
          "data": {
            "text/plain": [
              "order_id                            0\n",
              "customer_id                         0\n",
              "order_status                        0\n",
              "order_purchase_timestamp            0\n",
              "order_approved_at                 161\n",
              "order_delivered_carrier_date     1968\n",
              "order_delivered_customer_date    3229\n",
              "order_estimated_delivery_date       0\n",
              "customer_unique_id                  0\n",
              "customer_zip_code_prefix            0\n",
              "customer_city                       0\n",
              "customer_state                      0\n",
              "order_item_id                     775\n",
              "product_id                        775\n",
              "seller_id                         775\n",
              "shipping_limit_date               775\n",
              "price                             775\n",
              "freight_value                     775\n",
              "product_category_name            2378\n",
              "product_name_lenght              2378\n",
              "product_description_lenght       2378\n",
              "product_photos_qty               2378\n",
              "product_weight_g                  793\n",
              "product_length_cm                 793\n",
              "product_height_cm                 793\n",
              "product_width_cm                  793\n",
              "product_category_name_english    2402\n",
              "seller_zip_code_prefix            775\n",
              "seller_city                       775\n",
              "seller_state                      775\n",
              "dtype: int64"
            ]
          },
          "execution_count": 53,
          "metadata": {},
          "output_type": "execute_result"
        }
      ],
      "source": [
        "merged_df.isna().sum()"
      ]
    },
    {
      "cell_type": "code",
      "execution_count": 54,
      "metadata": {
        "colab": {
          "base_uri": "https://localhost:8080/"
        },
        "id": "mskg8QbYRTb3",
        "outputId": "7055efc4-6981-4872-e521-396156c7dea4"
      },
      "outputs": [
        {
          "name": "stdout",
          "output_type": "stream",
          "text": [
            "Jumlah duplikasi:  0\n"
          ]
        }
      ],
      "source": [
        "print(\"Jumlah duplikasi: \", merged_df.duplicated().sum())"
      ]
    },
    {
      "cell_type": "code",
      "execution_count": 55,
      "metadata": {
        "colab": {
          "base_uri": "https://localhost:8080/",
          "height": 320
        },
        "id": "3LM_7tFBReHO",
        "outputId": "3a19b63a-ba7e-4313-df60-9c2dd831176a"
      },
      "outputs": [
        {
          "data": {
            "text/html": [
              "<div>\n",
              "<style scoped>\n",
              "    .dataframe tbody tr th:only-of-type {\n",
              "        vertical-align: middle;\n",
              "    }\n",
              "\n",
              "    .dataframe tbody tr th {\n",
              "        vertical-align: top;\n",
              "    }\n",
              "\n",
              "    .dataframe thead th {\n",
              "        text-align: right;\n",
              "    }\n",
              "</style>\n",
              "<table border=\"1\" class=\"dataframe\">\n",
              "  <thead>\n",
              "    <tr style=\"text-align: right;\">\n",
              "      <th></th>\n",
              "      <th>customer_zip_code_prefix</th>\n",
              "      <th>order_item_id</th>\n",
              "      <th>price</th>\n",
              "      <th>freight_value</th>\n",
              "      <th>product_name_lenght</th>\n",
              "      <th>product_description_lenght</th>\n",
              "      <th>product_photos_qty</th>\n",
              "      <th>product_weight_g</th>\n",
              "      <th>product_length_cm</th>\n",
              "      <th>product_height_cm</th>\n",
              "      <th>product_width_cm</th>\n",
              "      <th>seller_zip_code_prefix</th>\n",
              "    </tr>\n",
              "  </thead>\n",
              "  <tbody>\n",
              "    <tr>\n",
              "      <th>count</th>\n",
              "      <td>113425.000000</td>\n",
              "      <td>112650.000000</td>\n",
              "      <td>112650.000000</td>\n",
              "      <td>112650.000000</td>\n",
              "      <td>111047.000000</td>\n",
              "      <td>111047.000000</td>\n",
              "      <td>111047.000000</td>\n",
              "      <td>112632.000000</td>\n",
              "      <td>112632.000000</td>\n",
              "      <td>112632.000000</td>\n",
              "      <td>112632.000000</td>\n",
              "      <td>112650.000000</td>\n",
              "    </tr>\n",
              "    <tr>\n",
              "      <th>mean</th>\n",
              "      <td>35102.472965</td>\n",
              "      <td>1.197834</td>\n",
              "      <td>120.653739</td>\n",
              "      <td>19.990320</td>\n",
              "      <td>48.775978</td>\n",
              "      <td>787.867029</td>\n",
              "      <td>2.209713</td>\n",
              "      <td>2093.672047</td>\n",
              "      <td>30.153669</td>\n",
              "      <td>16.593766</td>\n",
              "      <td>22.996546</td>\n",
              "      <td>24439.170431</td>\n",
              "    </tr>\n",
              "    <tr>\n",
              "      <th>std</th>\n",
              "      <td>29864.919733</td>\n",
              "      <td>0.705124</td>\n",
              "      <td>183.633928</td>\n",
              "      <td>15.806405</td>\n",
              "      <td>10.025581</td>\n",
              "      <td>652.135608</td>\n",
              "      <td>1.721438</td>\n",
              "      <td>3751.596884</td>\n",
              "      <td>16.153449</td>\n",
              "      <td>13.443483</td>\n",
              "      <td>11.707268</td>\n",
              "      <td>27596.030909</td>\n",
              "    </tr>\n",
              "    <tr>\n",
              "      <th>min</th>\n",
              "      <td>1003.000000</td>\n",
              "      <td>1.000000</td>\n",
              "      <td>0.850000</td>\n",
              "      <td>0.000000</td>\n",
              "      <td>5.000000</td>\n",
              "      <td>4.000000</td>\n",
              "      <td>1.000000</td>\n",
              "      <td>0.000000</td>\n",
              "      <td>7.000000</td>\n",
              "      <td>2.000000</td>\n",
              "      <td>6.000000</td>\n",
              "      <td>1001.000000</td>\n",
              "    </tr>\n",
              "    <tr>\n",
              "      <th>25%</th>\n",
              "      <td>11250.000000</td>\n",
              "      <td>1.000000</td>\n",
              "      <td>39.900000</td>\n",
              "      <td>13.080000</td>\n",
              "      <td>42.000000</td>\n",
              "      <td>348.000000</td>\n",
              "      <td>1.000000</td>\n",
              "      <td>300.000000</td>\n",
              "      <td>18.000000</td>\n",
              "      <td>8.000000</td>\n",
              "      <td>15.000000</td>\n",
              "      <td>6429.000000</td>\n",
              "    </tr>\n",
              "    <tr>\n",
              "      <th>50%</th>\n",
              "      <td>24320.000000</td>\n",
              "      <td>1.000000</td>\n",
              "      <td>74.990000</td>\n",
              "      <td>16.260000</td>\n",
              "      <td>52.000000</td>\n",
              "      <td>603.000000</td>\n",
              "      <td>1.000000</td>\n",
              "      <td>700.000000</td>\n",
              "      <td>25.000000</td>\n",
              "      <td>13.000000</td>\n",
              "      <td>20.000000</td>\n",
              "      <td>13568.000000</td>\n",
              "    </tr>\n",
              "    <tr>\n",
              "      <th>75%</th>\n",
              "      <td>59020.000000</td>\n",
              "      <td>1.000000</td>\n",
              "      <td>134.900000</td>\n",
              "      <td>21.150000</td>\n",
              "      <td>57.000000</td>\n",
              "      <td>987.000000</td>\n",
              "      <td>3.000000</td>\n",
              "      <td>1800.000000</td>\n",
              "      <td>38.000000</td>\n",
              "      <td>20.000000</td>\n",
              "      <td>30.000000</td>\n",
              "      <td>27930.000000</td>\n",
              "    </tr>\n",
              "    <tr>\n",
              "      <th>max</th>\n",
              "      <td>99990.000000</td>\n",
              "      <td>21.000000</td>\n",
              "      <td>6735.000000</td>\n",
              "      <td>409.680000</td>\n",
              "      <td>76.000000</td>\n",
              "      <td>3992.000000</td>\n",
              "      <td>20.000000</td>\n",
              "      <td>40425.000000</td>\n",
              "      <td>105.000000</td>\n",
              "      <td>105.000000</td>\n",
              "      <td>118.000000</td>\n",
              "      <td>99730.000000</td>\n",
              "    </tr>\n",
              "  </tbody>\n",
              "</table>\n",
              "</div>"
            ],
            "text/plain": [
              "       customer_zip_code_prefix  order_item_id          price  freight_value  \\\n",
              "count             113425.000000  112650.000000  112650.000000  112650.000000   \n",
              "mean               35102.472965       1.197834     120.653739      19.990320   \n",
              "std                29864.919733       0.705124     183.633928      15.806405   \n",
              "min                 1003.000000       1.000000       0.850000       0.000000   \n",
              "25%                11250.000000       1.000000      39.900000      13.080000   \n",
              "50%                24320.000000       1.000000      74.990000      16.260000   \n",
              "75%                59020.000000       1.000000     134.900000      21.150000   \n",
              "max                99990.000000      21.000000    6735.000000     409.680000   \n",
              "\n",
              "       product_name_lenght  product_description_lenght  product_photos_qty  \\\n",
              "count        111047.000000               111047.000000       111047.000000   \n",
              "mean             48.775978                  787.867029            2.209713   \n",
              "std              10.025581                  652.135608            1.721438   \n",
              "min               5.000000                    4.000000            1.000000   \n",
              "25%              42.000000                  348.000000            1.000000   \n",
              "50%              52.000000                  603.000000            1.000000   \n",
              "75%              57.000000                  987.000000            3.000000   \n",
              "max              76.000000                 3992.000000           20.000000   \n",
              "\n",
              "       product_weight_g  product_length_cm  product_height_cm  \\\n",
              "count     112632.000000      112632.000000      112632.000000   \n",
              "mean        2093.672047          30.153669          16.593766   \n",
              "std         3751.596884          16.153449          13.443483   \n",
              "min            0.000000           7.000000           2.000000   \n",
              "25%          300.000000          18.000000           8.000000   \n",
              "50%          700.000000          25.000000          13.000000   \n",
              "75%         1800.000000          38.000000          20.000000   \n",
              "max        40425.000000         105.000000         105.000000   \n",
              "\n",
              "       product_width_cm  seller_zip_code_prefix  \n",
              "count     112632.000000           112650.000000  \n",
              "mean          22.996546            24439.170431  \n",
              "std           11.707268            27596.030909  \n",
              "min            6.000000             1001.000000  \n",
              "25%           15.000000             6429.000000  \n",
              "50%           20.000000            13568.000000  \n",
              "75%           30.000000            27930.000000  \n",
              "max          118.000000            99730.000000  "
            ]
          },
          "execution_count": 55,
          "metadata": {},
          "output_type": "execute_result"
        }
      ],
      "source": [
        "merged_df.describe()"
      ]
    },
    {
      "cell_type": "markdown",
      "metadata": {
        "id": "7dtxhAPrkhPL"
      },
      "source": [
        "**Insight:**\n",
        "- Terdapat peubah-peubah yang mengandung missing value.\n",
        "- Peubah order_approved_at sebanyak 161.\n",
        "- Peubah order_delivered_carrier_date sebanyak 1968.\n",
        "- Peubah delivered_customer_date sebanyak 3229.\n",
        "- Peubah order_item_id, product_id, seller_id, shipping_limit_date, price, freight_value sebanyak 775.\n",
        "- Peubah product_category_name, product_name_length, product_describe_length, product_photos_qty sebanyak 2378.\n",
        "- Peubah product_weight_g, product_length_cm, product_height_cm, product_width_cm sebanyak 793.\n",
        "- Product_category_name_english sebanyak 2402.\n",
        "- Product seller_zip_code_prefix, seller_city, seller_state sebanyak 775.\n",
        "- Terdapat peubah yang tipe datanya belum sesuai, yaitu order_approved_at, order_purchase_timestamp, order_delivered_carrier_date, order_delivered_customer_date, order_estimated_delivery_date, shipping_limit_date\n"
      ]
    },
    {
      "cell_type": "markdown",
      "metadata": {
        "id": "EhN5R4hr8DC1"
      },
      "source": [
        "### Cleaning Data"
      ]
    },
    {
      "cell_type": "markdown",
      "metadata": {
        "id": "xMRgmlnCXzno"
      },
      "source": [
        "#### Ubah tipe data peubah obejct yang seharusnya datetime"
      ]
    },
    {
      "cell_type": "code",
      "execution_count": 56,
      "metadata": {
        "id": "jVnYpprE9Evz"
      },
      "outputs": [],
      "source": [
        "date_cols = [\n",
        "    \"order_purchase_timestamp\",\n",
        "    \"order_approved_at\",\n",
        "    \"order_delivered_carrier_date\",\n",
        "    \"order_delivered_customer_date\",\n",
        "    \"order_estimated_delivery_date\",\n",
        "    \"shipping_limit_date\"\n",
        "]\n",
        "for col in date_cols:\n",
        "    merged_df[col] = pd.to_datetime(merged_df[col], errors='coerce')"
      ]
    },
    {
      "cell_type": "markdown",
      "metadata": {
        "id": "-WjRDdmIX_SC"
      },
      "source": [
        "#### Menangani missing values pada data"
      ]
    },
    {
      "cell_type": "code",
      "execution_count": 57,
      "metadata": {
        "colab": {
          "base_uri": "https://localhost:8080/"
        },
        "id": "zPnHkJ1CXX47",
        "outputId": "83817e16-0ce9-460f-956f-fc0971eeeb1d"
      },
      "outputs": [
        {
          "name": "stderr",
          "output_type": "stream",
          "text": [
            "C:\\Users\\acer\\AppData\\Local\\Temp\\ipykernel_13748\\251045641.py:3: FutureWarning: A value is trying to be set on a copy of a DataFrame or Series through chained assignment using an inplace method.\n",
            "The behavior will change in pandas 3.0. This inplace method will never work because the intermediate object on which we are setting values always behaves as a copy.\n",
            "\n",
            "For example, when doing 'df[col].method(value, inplace=True)', try using 'df.method({col: value}, inplace=True)' or df[col] = df[col].method(value) instead, to perform the operation inplace on the original object.\n",
            "\n",
            "\n",
            "  merged_df[col].fillna(merged_df[col].median(), inplace=True)\n",
            "C:\\Users\\acer\\AppData\\Local\\Temp\\ipykernel_13748\\251045641.py:3: FutureWarning: A value is trying to be set on a copy of a DataFrame or Series through chained assignment using an inplace method.\n",
            "The behavior will change in pandas 3.0. This inplace method will never work because the intermediate object on which we are setting values always behaves as a copy.\n",
            "\n",
            "For example, when doing 'df[col].method(value, inplace=True)', try using 'df.method({col: value}, inplace=True)' or df[col] = df[col].method(value) instead, to perform the operation inplace on the original object.\n",
            "\n",
            "\n",
            "  merged_df[col].fillna(merged_df[col].median(), inplace=True)\n",
            "C:\\Users\\acer\\AppData\\Local\\Temp\\ipykernel_13748\\251045641.py:3: FutureWarning: A value is trying to be set on a copy of a DataFrame or Series through chained assignment using an inplace method.\n",
            "The behavior will change in pandas 3.0. This inplace method will never work because the intermediate object on which we are setting values always behaves as a copy.\n",
            "\n",
            "For example, when doing 'df[col].method(value, inplace=True)', try using 'df.method({col: value}, inplace=True)' or df[col] = df[col].method(value) instead, to perform the operation inplace on the original object.\n",
            "\n",
            "\n",
            "  merged_df[col].fillna(merged_df[col].median(), inplace=True)\n",
            "C:\\Users\\acer\\AppData\\Local\\Temp\\ipykernel_13748\\251045641.py:3: FutureWarning: A value is trying to be set on a copy of a DataFrame or Series through chained assignment using an inplace method.\n",
            "The behavior will change in pandas 3.0. This inplace method will never work because the intermediate object on which we are setting values always behaves as a copy.\n",
            "\n",
            "For example, when doing 'df[col].method(value, inplace=True)', try using 'df.method({col: value}, inplace=True)' or df[col] = df[col].method(value) instead, to perform the operation inplace on the original object.\n",
            "\n",
            "\n",
            "  merged_df[col].fillna(merged_df[col].median(), inplace=True)\n"
          ]
        }
      ],
      "source": [
        "for col in date_cols:\n",
        "    if merged_df[col].isnull().sum() > 0:\n",
        "        merged_df[col].fillna(merged_df[col].median(), inplace=True)\n",
        "\n",
        "merged_df.fillna({\n",
        "    \"product_category_name\": merged_df[\"product_category_name\"].mode()[0],\n",
        "    \"product_category_name_english\": merged_df[\"product_category_name_english\"].mode()[0],\n",
        "    \"seller_city\": merged_df[\"seller_city\"].mode()[0],\n",
        "    \"seller_state\": merged_df[\"seller_state\"].mode()[0],\n",
        "    \"customer_city\": merged_df[\"customer_city\"].mode()[0],\n",
        "    \"customer_state\": merged_df[\"customer_state\"].mode()[0],\n",
        "    \"price\": merged_df[\"price\"].median(),\n",
        "    \"freight_value\": merged_df[\"freight_value\"].median(),\n",
        "    \"product_name_lenght\": merged_df[\"product_name_lenght\"].median(),\n",
        "    \"product_description_lenght\": merged_df[\"product_description_lenght\"].median(),\n",
        "    \"product_photos_qty\": merged_df[\"product_photos_qty\"].median(),\n",
        "    \"product_weight_g\": merged_df[\"product_weight_g\"].median(),\n",
        "    \"product_length_cm\": merged_df[\"product_length_cm\"].median(),\n",
        "    \"product_height_cm\": merged_df[\"product_height_cm\"].median(),\n",
        "    \"product_width_cm\": merged_df[\"product_width_cm\"].median(),\n",
        "    \"order_item_id\": 0,\n",
        "    \"product_id\": \"Unknown\",\n",
        "    \"seller_id\": \"Unknown\",\n",
        "    \"seller_zip_code_prefix\": \"Unknown\"\n",
        "}, inplace=True)\n"
      ]
    },
    {
      "cell_type": "code",
      "execution_count": 58,
      "metadata": {
        "colab": {
          "base_uri": "https://localhost:8080/"
        },
        "id": "sRNrzg2ZYRQT",
        "outputId": "f352fe2b-6a26-4575-a136-439b6114994f"
      },
      "outputs": [
        {
          "name": "stdout",
          "output_type": "stream",
          "text": [
            "<class 'pandas.core.frame.DataFrame'>\n",
            "RangeIndex: 113425 entries, 0 to 113424\n",
            "Data columns (total 30 columns):\n",
            " #   Column                         Non-Null Count   Dtype         \n",
            "---  ------                         --------------   -----         \n",
            " 0   order_id                       113425 non-null  object        \n",
            " 1   customer_id                    113425 non-null  object        \n",
            " 2   order_status                   113425 non-null  object        \n",
            " 3   order_purchase_timestamp       113425 non-null  datetime64[ns]\n",
            " 4   order_approved_at              113425 non-null  datetime64[ns]\n",
            " 5   order_delivered_carrier_date   113425 non-null  datetime64[ns]\n",
            " 6   order_delivered_customer_date  113425 non-null  datetime64[ns]\n",
            " 7   order_estimated_delivery_date  113425 non-null  datetime64[ns]\n",
            " 8   customer_unique_id             113425 non-null  object        \n",
            " 9   customer_zip_code_prefix       113425 non-null  int64         \n",
            " 10  customer_city                  113425 non-null  object        \n",
            " 11  customer_state                 113425 non-null  object        \n",
            " 12  order_item_id                  113425 non-null  float64       \n",
            " 13  product_id                     113425 non-null  object        \n",
            " 14  seller_id                      113425 non-null  object        \n",
            " 15  shipping_limit_date            113425 non-null  datetime64[ns]\n",
            " 16  price                          113425 non-null  float64       \n",
            " 17  freight_value                  113425 non-null  float64       \n",
            " 18  product_category_name          113425 non-null  object        \n",
            " 19  product_name_lenght            113425 non-null  float64       \n",
            " 20  product_description_lenght     113425 non-null  float64       \n",
            " 21  product_photos_qty             113425 non-null  float64       \n",
            " 22  product_weight_g               113425 non-null  float64       \n",
            " 23  product_length_cm              113425 non-null  float64       \n",
            " 24  product_height_cm              113425 non-null  float64       \n",
            " 25  product_width_cm               113425 non-null  float64       \n",
            " 26  product_category_name_english  113425 non-null  object        \n",
            " 27  seller_zip_code_prefix         113425 non-null  object        \n",
            " 28  seller_city                    113425 non-null  object        \n",
            " 29  seller_state                   113425 non-null  object        \n",
            "dtypes: datetime64[ns](6), float64(10), int64(1), object(13)\n",
            "memory usage: 26.0+ MB\n"
          ]
        }
      ],
      "source": [
        "merged_df.info()"
      ]
    },
    {
      "cell_type": "code",
      "execution_count": 59,
      "metadata": {
        "colab": {
          "base_uri": "https://localhost:8080/",
          "height": 1000
        },
        "id": "6dRXikvNZgHT",
        "outputId": "4eb726ca-3a27-4e51-8bce-2c360792d7af"
      },
      "outputs": [
        {
          "data": {
            "text/plain": [
              "order_id                         0\n",
              "customer_id                      0\n",
              "order_status                     0\n",
              "order_purchase_timestamp         0\n",
              "order_approved_at                0\n",
              "order_delivered_carrier_date     0\n",
              "order_delivered_customer_date    0\n",
              "order_estimated_delivery_date    0\n",
              "customer_unique_id               0\n",
              "customer_zip_code_prefix         0\n",
              "customer_city                    0\n",
              "customer_state                   0\n",
              "order_item_id                    0\n",
              "product_id                       0\n",
              "seller_id                        0\n",
              "shipping_limit_date              0\n",
              "price                            0\n",
              "freight_value                    0\n",
              "product_category_name            0\n",
              "product_name_lenght              0\n",
              "product_description_lenght       0\n",
              "product_photos_qty               0\n",
              "product_weight_g                 0\n",
              "product_length_cm                0\n",
              "product_height_cm                0\n",
              "product_width_cm                 0\n",
              "product_category_name_english    0\n",
              "seller_zip_code_prefix           0\n",
              "seller_city                      0\n",
              "seller_state                     0\n",
              "dtype: int64"
            ]
          },
          "execution_count": 59,
          "metadata": {},
          "output_type": "execute_result"
        }
      ],
      "source": [
        "merged_df.isna().sum()"
      ]
    },
    {
      "cell_type": "markdown",
      "metadata": {
        "id": "Q_5ejIqckiSP"
      },
      "source": [
        "**Insight:**\n",
        "- Menangani missing values pada kolom tanggal dengan mengganti nilai yang hilang menggunakan median dari masing-masing kolom bertipe datetime.\n",
        "- Mengisi kategori produk dan lokasi (customer & seller) dengan modus (nilai yang paling sering muncul) agar tetap merepresentasikan data yang valid.\n",
        "- Menangani missing values pada kolom numerik dengan median untuk menghindari outlier yang dapat mempengaruhi analisis.\n",
        "- Mengisi order_item_id, product_id, seller_id, dan seller_zip_code_prefix dengan 0 atau \"Unknown\", untuk memastikan tidak ada data pesanan yang hilang. Jika order_item_id = 0, maka pesanan tersebut tidak memiliki item pembelian."
      ]
    },
    {
      "cell_type": "markdown",
      "metadata": {
        "id": "gp-Y6wU38DC1"
      },
      "source": [
        "## Exploratory Data Analysis (EDA)"
      ]
    },
    {
      "cell_type": "code",
      "execution_count": 60,
      "metadata": {
        "colab": {
          "base_uri": "https://localhost:8080/",
          "height": 478
        },
        "id": "DfYZGw-qgH77",
        "outputId": "f9321e7b-7107-44f5-963c-6b11e2a8ca34"
      },
      "outputs": [
        {
          "data": {
            "text/html": [
              "<div>\n",
              "<style scoped>\n",
              "    .dataframe tbody tr th:only-of-type {\n",
              "        vertical-align: middle;\n",
              "    }\n",
              "\n",
              "    .dataframe tbody tr th {\n",
              "        vertical-align: top;\n",
              "    }\n",
              "\n",
              "    .dataframe thead th {\n",
              "        text-align: right;\n",
              "    }\n",
              "</style>\n",
              "<table border=\"1\" class=\"dataframe\">\n",
              "  <thead>\n",
              "    <tr style=\"text-align: right;\">\n",
              "      <th></th>\n",
              "      <th>order_id</th>\n",
              "      <th>customer_id</th>\n",
              "      <th>order_status</th>\n",
              "      <th>order_purchase_timestamp</th>\n",
              "      <th>order_approved_at</th>\n",
              "      <th>order_delivered_carrier_date</th>\n",
              "      <th>order_delivered_customer_date</th>\n",
              "      <th>order_estimated_delivery_date</th>\n",
              "      <th>customer_unique_id</th>\n",
              "      <th>customer_zip_code_prefix</th>\n",
              "      <th>...</th>\n",
              "      <th>product_description_lenght</th>\n",
              "      <th>product_photos_qty</th>\n",
              "      <th>product_weight_g</th>\n",
              "      <th>product_length_cm</th>\n",
              "      <th>product_height_cm</th>\n",
              "      <th>product_width_cm</th>\n",
              "      <th>product_category_name_english</th>\n",
              "      <th>seller_zip_code_prefix</th>\n",
              "      <th>seller_city</th>\n",
              "      <th>seller_state</th>\n",
              "    </tr>\n",
              "  </thead>\n",
              "  <tbody>\n",
              "    <tr>\n",
              "      <th>count</th>\n",
              "      <td>113425</td>\n",
              "      <td>113425</td>\n",
              "      <td>113425</td>\n",
              "      <td>113425</td>\n",
              "      <td>113425</td>\n",
              "      <td>113425</td>\n",
              "      <td>113425</td>\n",
              "      <td>113425</td>\n",
              "      <td>113425</td>\n",
              "      <td>113425.000000</td>\n",
              "      <td>...</td>\n",
              "      <td>113425.000000</td>\n",
              "      <td>113425.000000</td>\n",
              "      <td>113425.000000</td>\n",
              "      <td>113425.000000</td>\n",
              "      <td>113425.000000</td>\n",
              "      <td>113425.000000</td>\n",
              "      <td>113425</td>\n",
              "      <td>113425.0</td>\n",
              "      <td>113425</td>\n",
              "      <td>113425</td>\n",
              "    </tr>\n",
              "    <tr>\n",
              "      <th>unique</th>\n",
              "      <td>99441</td>\n",
              "      <td>99441</td>\n",
              "      <td>8</td>\n",
              "      <td>NaN</td>\n",
              "      <td>NaN</td>\n",
              "      <td>NaN</td>\n",
              "      <td>NaN</td>\n",
              "      <td>NaN</td>\n",
              "      <td>96096</td>\n",
              "      <td>NaN</td>\n",
              "      <td>...</td>\n",
              "      <td>NaN</td>\n",
              "      <td>NaN</td>\n",
              "      <td>NaN</td>\n",
              "      <td>NaN</td>\n",
              "      <td>NaN</td>\n",
              "      <td>NaN</td>\n",
              "      <td>71</td>\n",
              "      <td>2247.0</td>\n",
              "      <td>611</td>\n",
              "      <td>23</td>\n",
              "    </tr>\n",
              "    <tr>\n",
              "      <th>top</th>\n",
              "      <td>8272b63d03f5f79c56e9e4120aec44ef</td>\n",
              "      <td>fc3d1daec319d62d49bfb5e1f83123e9</td>\n",
              "      <td>delivered</td>\n",
              "      <td>NaN</td>\n",
              "      <td>NaN</td>\n",
              "      <td>NaN</td>\n",
              "      <td>NaN</td>\n",
              "      <td>NaN</td>\n",
              "      <td>c8460e4251689ba205045f3ea17884a1</td>\n",
              "      <td>NaN</td>\n",
              "      <td>...</td>\n",
              "      <td>NaN</td>\n",
              "      <td>NaN</td>\n",
              "      <td>NaN</td>\n",
              "      <td>NaN</td>\n",
              "      <td>NaN</td>\n",
              "      <td>NaN</td>\n",
              "      <td>bed_bath_table</td>\n",
              "      <td>14940.0</td>\n",
              "      <td>sao paulo</td>\n",
              "      <td>SP</td>\n",
              "    </tr>\n",
              "    <tr>\n",
              "      <th>freq</th>\n",
              "      <td>21</td>\n",
              "      <td>21</td>\n",
              "      <td>110197</td>\n",
              "      <td>NaN</td>\n",
              "      <td>NaN</td>\n",
              "      <td>NaN</td>\n",
              "      <td>NaN</td>\n",
              "      <td>NaN</td>\n",
              "      <td>24</td>\n",
              "      <td>NaN</td>\n",
              "      <td>...</td>\n",
              "      <td>NaN</td>\n",
              "      <td>NaN</td>\n",
              "      <td>NaN</td>\n",
              "      <td>NaN</td>\n",
              "      <td>NaN</td>\n",
              "      <td>NaN</td>\n",
              "      <td>13517</td>\n",
              "      <td>7750.0</td>\n",
              "      <td>28758</td>\n",
              "      <td>81117</td>\n",
              "    </tr>\n",
              "    <tr>\n",
              "      <th>mean</th>\n",
              "      <td>NaN</td>\n",
              "      <td>NaN</td>\n",
              "      <td>NaN</td>\n",
              "      <td>2017-12-31 12:25:41.686480128</td>\n",
              "      <td>2017-12-31 23:19:17.769429504</td>\n",
              "      <td>2018-01-05 10:29:18.400643584</td>\n",
              "      <td>2018-01-15 02:37:09.367325952</td>\n",
              "      <td>2018-01-24 08:22:34.875909120</td>\n",
              "      <td>NaN</td>\n",
              "      <td>35102.472965</td>\n",
              "      <td>...</td>\n",
              "      <td>783.991219</td>\n",
              "      <td>2.184351</td>\n",
              "      <td>2083.928323</td>\n",
              "      <td>30.117637</td>\n",
              "      <td>16.568640</td>\n",
              "      <td>22.975596</td>\n",
              "      <td>NaN</td>\n",
              "      <td>NaN</td>\n",
              "      <td>NaN</td>\n",
              "      <td>NaN</td>\n",
              "    </tr>\n",
              "    <tr>\n",
              "      <th>min</th>\n",
              "      <td>NaN</td>\n",
              "      <td>NaN</td>\n",
              "      <td>NaN</td>\n",
              "      <td>2016-09-04 21:15:19</td>\n",
              "      <td>2016-09-15 12:16:38</td>\n",
              "      <td>2016-10-08 10:34:01</td>\n",
              "      <td>2016-10-11 13:46:32</td>\n",
              "      <td>2016-09-30 00:00:00</td>\n",
              "      <td>NaN</td>\n",
              "      <td>1003.000000</td>\n",
              "      <td>...</td>\n",
              "      <td>4.000000</td>\n",
              "      <td>1.000000</td>\n",
              "      <td>0.000000</td>\n",
              "      <td>7.000000</td>\n",
              "      <td>2.000000</td>\n",
              "      <td>6.000000</td>\n",
              "      <td>NaN</td>\n",
              "      <td>NaN</td>\n",
              "      <td>NaN</td>\n",
              "      <td>NaN</td>\n",
              "    </tr>\n",
              "    <tr>\n",
              "      <th>25%</th>\n",
              "      <td>NaN</td>\n",
              "      <td>NaN</td>\n",
              "      <td>NaN</td>\n",
              "      <td>2017-09-13 11:05:49</td>\n",
              "      <td>2017-09-13 22:30:20</td>\n",
              "      <td>2017-09-20 19:08:15</td>\n",
              "      <td>2017-10-02 20:33:42</td>\n",
              "      <td>2017-10-04 00:00:00</td>\n",
              "      <td>NaN</td>\n",
              "      <td>11250.000000</td>\n",
              "      <td>...</td>\n",
              "      <td>349.000000</td>\n",
              "      <td>1.000000</td>\n",
              "      <td>300.000000</td>\n",
              "      <td>18.000000</td>\n",
              "      <td>8.000000</td>\n",
              "      <td>15.000000</td>\n",
              "      <td>NaN</td>\n",
              "      <td>NaN</td>\n",
              "      <td>NaN</td>\n",
              "      <td>NaN</td>\n",
              "    </tr>\n",
              "    <tr>\n",
              "      <th>50%</th>\n",
              "      <td>NaN</td>\n",
              "      <td>NaN</td>\n",
              "      <td>NaN</td>\n",
              "      <td>2018-01-19 10:37:45</td>\n",
              "      <td>2018-01-19 16:59:52.500000</td>\n",
              "      <td>2018-01-24 18:44:33</td>\n",
              "      <td>2018-02-02 20:57:23</td>\n",
              "      <td>2018-02-15 00:00:00</td>\n",
              "      <td>NaN</td>\n",
              "      <td>24320.000000</td>\n",
              "      <td>...</td>\n",
              "      <td>603.000000</td>\n",
              "      <td>1.000000</td>\n",
              "      <td>700.000000</td>\n",
              "      <td>25.000000</td>\n",
              "      <td>13.000000</td>\n",
              "      <td>20.000000</td>\n",
              "      <td>NaN</td>\n",
              "      <td>NaN</td>\n",
              "      <td>NaN</td>\n",
              "      <td>NaN</td>\n",
              "    </tr>\n",
              "    <tr>\n",
              "      <th>75%</th>\n",
              "      <td>NaN</td>\n",
              "      <td>NaN</td>\n",
              "      <td>NaN</td>\n",
              "      <td>2018-05-04 14:22:16</td>\n",
              "      <td>2018-05-04 16:13:33</td>\n",
              "      <td>2018-05-07 13:30:00</td>\n",
              "      <td>2018-05-14 13:03:26</td>\n",
              "      <td>2018-05-25 00:00:00</td>\n",
              "      <td>NaN</td>\n",
              "      <td>59020.000000</td>\n",
              "      <td>...</td>\n",
              "      <td>974.000000</td>\n",
              "      <td>3.000000</td>\n",
              "      <td>1800.000000</td>\n",
              "      <td>38.000000</td>\n",
              "      <td>20.000000</td>\n",
              "      <td>30.000000</td>\n",
              "      <td>NaN</td>\n",
              "      <td>NaN</td>\n",
              "      <td>NaN</td>\n",
              "      <td>NaN</td>\n",
              "    </tr>\n",
              "    <tr>\n",
              "      <th>max</th>\n",
              "      <td>NaN</td>\n",
              "      <td>NaN</td>\n",
              "      <td>NaN</td>\n",
              "      <td>2018-10-17 17:30:18</td>\n",
              "      <td>2018-09-03 17:40:06</td>\n",
              "      <td>2018-09-11 19:48:28</td>\n",
              "      <td>2018-10-17 13:22:46</td>\n",
              "      <td>2018-11-12 00:00:00</td>\n",
              "      <td>NaN</td>\n",
              "      <td>99990.000000</td>\n",
              "      <td>...</td>\n",
              "      <td>3992.000000</td>\n",
              "      <td>20.000000</td>\n",
              "      <td>40425.000000</td>\n",
              "      <td>105.000000</td>\n",
              "      <td>105.000000</td>\n",
              "      <td>118.000000</td>\n",
              "      <td>NaN</td>\n",
              "      <td>NaN</td>\n",
              "      <td>NaN</td>\n",
              "      <td>NaN</td>\n",
              "    </tr>\n",
              "    <tr>\n",
              "      <th>std</th>\n",
              "      <td>NaN</td>\n",
              "      <td>NaN</td>\n",
              "      <td>NaN</td>\n",
              "      <td>NaN</td>\n",
              "      <td>NaN</td>\n",
              "      <td>NaN</td>\n",
              "      <td>NaN</td>\n",
              "      <td>NaN</td>\n",
              "      <td>NaN</td>\n",
              "      <td>29864.919733</td>\n",
              "      <td>...</td>\n",
              "      <td>645.806538</td>\n",
              "      <td>1.712092</td>\n",
              "      <td>3740.262380</td>\n",
              "      <td>16.102609</td>\n",
              "      <td>13.399752</td>\n",
              "      <td>11.668943</td>\n",
              "      <td>NaN</td>\n",
              "      <td>NaN</td>\n",
              "      <td>NaN</td>\n",
              "      <td>NaN</td>\n",
              "    </tr>\n",
              "  </tbody>\n",
              "</table>\n",
              "<p>11 rows × 30 columns</p>\n",
              "</div>"
            ],
            "text/plain": [
              "                                order_id                       customer_id  \\\n",
              "count                             113425                            113425   \n",
              "unique                             99441                             99441   \n",
              "top     8272b63d03f5f79c56e9e4120aec44ef  fc3d1daec319d62d49bfb5e1f83123e9   \n",
              "freq                                  21                                21   \n",
              "mean                                 NaN                               NaN   \n",
              "min                                  NaN                               NaN   \n",
              "25%                                  NaN                               NaN   \n",
              "50%                                  NaN                               NaN   \n",
              "75%                                  NaN                               NaN   \n",
              "max                                  NaN                               NaN   \n",
              "std                                  NaN                               NaN   \n",
              "\n",
              "       order_status       order_purchase_timestamp  \\\n",
              "count        113425                         113425   \n",
              "unique            8                            NaN   \n",
              "top       delivered                            NaN   \n",
              "freq         110197                            NaN   \n",
              "mean            NaN  2017-12-31 12:25:41.686480128   \n",
              "min             NaN            2016-09-04 21:15:19   \n",
              "25%             NaN            2017-09-13 11:05:49   \n",
              "50%             NaN            2018-01-19 10:37:45   \n",
              "75%             NaN            2018-05-04 14:22:16   \n",
              "max             NaN            2018-10-17 17:30:18   \n",
              "std             NaN                            NaN   \n",
              "\n",
              "                    order_approved_at   order_delivered_carrier_date  \\\n",
              "count                          113425                         113425   \n",
              "unique                            NaN                            NaN   \n",
              "top                               NaN                            NaN   \n",
              "freq                              NaN                            NaN   \n",
              "mean    2017-12-31 23:19:17.769429504  2018-01-05 10:29:18.400643584   \n",
              "min               2016-09-15 12:16:38            2016-10-08 10:34:01   \n",
              "25%               2017-09-13 22:30:20            2017-09-20 19:08:15   \n",
              "50%        2018-01-19 16:59:52.500000            2018-01-24 18:44:33   \n",
              "75%               2018-05-04 16:13:33            2018-05-07 13:30:00   \n",
              "max               2018-09-03 17:40:06            2018-09-11 19:48:28   \n",
              "std                               NaN                            NaN   \n",
              "\n",
              "        order_delivered_customer_date  order_estimated_delivery_date  \\\n",
              "count                          113425                         113425   \n",
              "unique                            NaN                            NaN   \n",
              "top                               NaN                            NaN   \n",
              "freq                              NaN                            NaN   \n",
              "mean    2018-01-15 02:37:09.367325952  2018-01-24 08:22:34.875909120   \n",
              "min               2016-10-11 13:46:32            2016-09-30 00:00:00   \n",
              "25%               2017-10-02 20:33:42            2017-10-04 00:00:00   \n",
              "50%               2018-02-02 20:57:23            2018-02-15 00:00:00   \n",
              "75%               2018-05-14 13:03:26            2018-05-25 00:00:00   \n",
              "max               2018-10-17 13:22:46            2018-11-12 00:00:00   \n",
              "std                               NaN                            NaN   \n",
              "\n",
              "                      customer_unique_id  customer_zip_code_prefix  ...  \\\n",
              "count                             113425             113425.000000  ...   \n",
              "unique                             96096                       NaN  ...   \n",
              "top     c8460e4251689ba205045f3ea17884a1                       NaN  ...   \n",
              "freq                                  24                       NaN  ...   \n",
              "mean                                 NaN              35102.472965  ...   \n",
              "min                                  NaN               1003.000000  ...   \n",
              "25%                                  NaN              11250.000000  ...   \n",
              "50%                                  NaN              24320.000000  ...   \n",
              "75%                                  NaN              59020.000000  ...   \n",
              "max                                  NaN              99990.000000  ...   \n",
              "std                                  NaN              29864.919733  ...   \n",
              "\n",
              "       product_description_lenght product_photos_qty  product_weight_g  \\\n",
              "count               113425.000000      113425.000000     113425.000000   \n",
              "unique                        NaN                NaN               NaN   \n",
              "top                           NaN                NaN               NaN   \n",
              "freq                          NaN                NaN               NaN   \n",
              "mean                   783.991219           2.184351       2083.928323   \n",
              "min                      4.000000           1.000000          0.000000   \n",
              "25%                    349.000000           1.000000        300.000000   \n",
              "50%                    603.000000           1.000000        700.000000   \n",
              "75%                    974.000000           3.000000       1800.000000   \n",
              "max                   3992.000000          20.000000      40425.000000   \n",
              "std                    645.806538           1.712092       3740.262380   \n",
              "\n",
              "       product_length_cm product_height_cm product_width_cm  \\\n",
              "count      113425.000000     113425.000000    113425.000000   \n",
              "unique               NaN               NaN              NaN   \n",
              "top                  NaN               NaN              NaN   \n",
              "freq                 NaN               NaN              NaN   \n",
              "mean           30.117637         16.568640        22.975596   \n",
              "min             7.000000          2.000000         6.000000   \n",
              "25%            18.000000          8.000000        15.000000   \n",
              "50%            25.000000         13.000000        20.000000   \n",
              "75%            38.000000         20.000000        30.000000   \n",
              "max           105.000000        105.000000       118.000000   \n",
              "std            16.102609         13.399752        11.668943   \n",
              "\n",
              "        product_category_name_english  seller_zip_code_prefix seller_city  \\\n",
              "count                          113425                113425.0      113425   \n",
              "unique                             71                  2247.0         611   \n",
              "top                    bed_bath_table                 14940.0   sao paulo   \n",
              "freq                            13517                  7750.0       28758   \n",
              "mean                              NaN                     NaN         NaN   \n",
              "min                               NaN                     NaN         NaN   \n",
              "25%                               NaN                     NaN         NaN   \n",
              "50%                               NaN                     NaN         NaN   \n",
              "75%                               NaN                     NaN         NaN   \n",
              "max                               NaN                     NaN         NaN   \n",
              "std                               NaN                     NaN         NaN   \n",
              "\n",
              "        seller_state  \n",
              "count         113425  \n",
              "unique            23  \n",
              "top               SP  \n",
              "freq           81117  \n",
              "mean             NaN  \n",
              "min              NaN  \n",
              "25%              NaN  \n",
              "50%              NaN  \n",
              "75%              NaN  \n",
              "max              NaN  \n",
              "std              NaN  \n",
              "\n",
              "[11 rows x 30 columns]"
            ]
          },
          "execution_count": 60,
          "metadata": {},
          "output_type": "execute_result"
        }
      ],
      "source": [
        "merged_df.describe(include=\"all\")"
      ]
    },
    {
      "cell_type": "markdown",
      "metadata": {
        "id": "MW7WF2kr8DC1"
      },
      "source": [
        "### Explore Demografi Pelanggan"
      ]
    },
    {
      "cell_type": "code",
      "execution_count": 61,
      "metadata": {
        "colab": {
          "base_uri": "https://localhost:8080/"
        },
        "id": "e9CQCZjk8DC2",
        "outputId": "e2365395-44d8-486b-a2bf-4caaf46ce008"
      },
      "outputs": [
        {
          "name": "stdout",
          "output_type": "stream",
          "text": [
            "customer_city\n",
            "sao paulo                17946\n",
            "rio de janeiro            7885\n",
            "belo horizonte            3167\n",
            "brasilia                  2407\n",
            "curitiba                  1762\n",
            "campinas                  1669\n",
            "porto alegre              1619\n",
            "salvador                  1419\n",
            "guarulhos                 1340\n",
            "sao bernardo do campo     1070\n",
            "Name: count, dtype: int64\n"
          ]
        }
      ],
      "source": [
        "customer_city_counts = merged_df[\"customer_city\"].value_counts().head(10)\n",
        "print(customer_city_counts)"
      ]
    },
    {
      "cell_type": "markdown",
      "metadata": {
        "id": "3x1RNz7bce7N"
      },
      "source": [
        "### Explore Demografi Seller"
      ]
    },
    {
      "cell_type": "code",
      "execution_count": 62,
      "metadata": {
        "colab": {
          "base_uri": "https://localhost:8080/"
        },
        "id": "FvcF9917ckj2",
        "outputId": "e1fde4f7-015d-4f4b-85ee-fef71c0cbc74"
      },
      "outputs": [
        {
          "name": "stdout",
          "output_type": "stream",
          "text": [
            "seller_city\n",
            "sao paulo                28758\n",
            "ibitinga                  7750\n",
            "curitiba                  3016\n",
            "santo andre               2964\n",
            "belo horizonte            2593\n",
            "sao jose do rio preto     2579\n",
            "rio de janeiro            2442\n",
            "guarulhos                 2362\n",
            "ribeirao preto            2269\n",
            "maringa                   2220\n",
            "Name: count, dtype: int64\n"
          ]
        }
      ],
      "source": [
        "seller_city_counts = merged_df[\"seller_city\"].value_counts().head(10)\n",
        "print(seller_city_counts)"
      ]
    },
    {
      "cell_type": "markdown",
      "metadata": {
        "id": "3K0ENt46dLXz"
      },
      "source": [
        "### Produk yang Paling Sering Dibeli"
      ]
    },
    {
      "cell_type": "code",
      "execution_count": 63,
      "metadata": {
        "colab": {
          "base_uri": "https://localhost:8080/"
        },
        "id": "xzfJAutmdOyD",
        "outputId": "958f1cba-5b10-498d-db10-4bac96bb4176"
      },
      "outputs": [
        {
          "name": "stdout",
          "output_type": "stream",
          "text": [
            "product_id\n",
            "Unknown                             775\n",
            "aca2eb7d00ea1a7b8ebd4e68314663af    527\n",
            "99a4788cb24856965c36a24e339b6058    488\n",
            "422879e10f46682990de24d770e7f83d    484\n",
            "389d119b48cf3043d311335e499d9c6b    392\n",
            "368c6c730842d78016ad823897a372db    388\n",
            "53759a2ecddad2bb87a079a1f1519f73    373\n",
            "d1c427060a0f73f6b889a5c7c61f2ac4    343\n",
            "53b36df67ebb7c41585e8d54d6772e08    323\n",
            "154e7e31ebfa092203795c972e5804a6    281\n",
            "Name: count, dtype: int64\n"
          ]
        }
      ],
      "source": [
        "top_products = merged_df[\"product_id\"].value_counts().head(10)\n",
        "print(top_products)"
      ]
    },
    {
      "cell_type": "markdown",
      "metadata": {
        "id": "myoJXPrkd1hM"
      },
      "source": [
        "### Kategori Produk yang Paling Banyak Dibeli"
      ]
    },
    {
      "cell_type": "code",
      "execution_count": 64,
      "metadata": {
        "colab": {
          "base_uri": "https://localhost:8080/"
        },
        "id": "UiUkzOJrd5WZ",
        "outputId": "d8c36b5a-fd22-4ad4-82bc-34b7f1c5e000"
      },
      "outputs": [
        {
          "name": "stdout",
          "output_type": "stream",
          "text": [
            "product_category_name_english\n",
            "bed_bath_table           13517\n",
            "health_beauty             9670\n",
            "sports_leisure            8641\n",
            "furniture_decor           8334\n",
            "computers_accessories     7827\n",
            "housewares                6964\n",
            "watches_gifts             5991\n",
            "telephony                 4545\n",
            "garden_tools              4347\n",
            "auto                      4235\n",
            "Name: count, dtype: int64\n"
          ]
        }
      ],
      "source": [
        "top_categories = merged_df[\"product_category_name_english\"].value_counts().head(10)\n",
        "print(top_categories)"
      ]
    },
    {
      "cell_type": "markdown",
      "metadata": {
        "id": "8LfwkeUbhUEH"
      },
      "source": [
        "### Kategori Produk dengan Harga Rata-Rata tertinggi"
      ]
    },
    {
      "cell_type": "code",
      "execution_count": 65,
      "metadata": {
        "colab": {
          "base_uri": "https://localhost:8080/"
        },
        "id": "AiC_ILDSiHXN",
        "outputId": "3bc52d0c-32af-4fb9-ded7-42394b51354d"
      },
      "outputs": [
        {
          "name": "stdout",
          "output_type": "stream",
          "text": [
            "product_category_name_english\n",
            "computers                                1098.340542\n",
            "small_appliances_home_oven_and_coffee     624.285658\n",
            "home_appliances_2                         476.124958\n",
            "agro_industry_and_commerce                342.124858\n",
            "musical_instruments                       281.616000\n",
            "small_appliances                          280.778468\n",
            "fixed_telephony                           225.693182\n",
            "construction_tools_safety                 208.992371\n",
            "watches_gifts                             201.135984\n",
            "air_conditioning                          185.269226\n",
            "Name: price, dtype: float64\n"
          ]
        }
      ],
      "source": [
        "top_categories_byprice = merged_df.groupby(\"product_category_name_english\")[\"price\"].mean().sort_values(ascending=False).head(10)\n",
        "print(top_categories_byprice)"
      ]
    },
    {
      "cell_type": "markdown",
      "metadata": {
        "id": "8SZRPStmxV39"
      },
      "source": [
        "### Distribusi Waktu Transaksi"
      ]
    },
    {
      "cell_type": "markdown",
      "metadata": {
        "id": "wGbjyxNTwkDH"
      },
      "source": [
        "#### Distribusi Transaksi per Jam"
      ]
    },
    {
      "cell_type": "code",
      "execution_count": 66,
      "metadata": {
        "colab": {
          "base_uri": "https://localhost:8080/"
        },
        "id": "oF0OM4ZXwhUE",
        "outputId": "9489fd24-d852-42c2-b7da-310875cd23ea"
      },
      "outputs": [
        {
          "name": "stdout",
          "output_type": "stream",
          "text": [
            "order_purchase_timestamp\n",
            "0     2733\n",
            "1     1303\n",
            "2      589\n",
            "3      317\n",
            "4      245\n",
            "5      219\n",
            "6      558\n",
            "7     1385\n",
            "8     3399\n",
            "9     5499\n",
            "10    7099\n",
            "11    7482\n",
            "12    6867\n",
            "13    7460\n",
            "14    7613\n",
            "15    7427\n",
            "16    7700\n",
            "17    7055\n",
            "18    6588\n",
            "19    6772\n",
            "20    6924\n",
            "21    6960\n",
            "22    6565\n",
            "23    4666\n",
            "Name: count, dtype: int64\n"
          ]
        }
      ],
      "source": [
        "hourly_transactions = merged_df['order_purchase_timestamp'].dt.hour.value_counts().sort_index()\n",
        "print(hourly_transactions)"
      ]
    },
    {
      "cell_type": "markdown",
      "metadata": {
        "id": "2LxrDrj2wwnC"
      },
      "source": [
        "#### Distribusi Transaksi per Hari dalam Seminggu"
      ]
    },
    {
      "cell_type": "code",
      "execution_count": 67,
      "metadata": {
        "colab": {
          "base_uri": "https://localhost:8080/"
        },
        "id": "2iTvE2wAw19b",
        "outputId": "5bbc2bb7-f36f-4f12-b7b4-30e0e84ed706"
      },
      "outputs": [
        {
          "name": "stdout",
          "output_type": "stream",
          "text": [
            "day_of_week\n",
            "Monday       18521\n",
            "Tuesday      18369\n",
            "Wednesday    17727\n",
            "Thursday     16919\n",
            "Friday       16159\n",
            "Saturday     12242\n",
            "Sunday       13488\n",
            "Name: count, dtype: int64\n"
          ]
        }
      ],
      "source": [
        "merged_df['day_of_week'] = merged_df['order_purchase_timestamp'].dt.day_name()\n",
        "daywise_transactions = merged_df['day_of_week'].value_counts()[['Monday', 'Tuesday', 'Wednesday', 'Thursday', 'Friday', 'Saturday', 'Sunday']]\n",
        "print(daywise_transactions)"
      ]
    },
    {
      "cell_type": "markdown",
      "metadata": {
        "id": "EBoQ_26wxH6a"
      },
      "source": [
        "#### Distribusi Transaksi per Bulan"
      ]
    },
    {
      "cell_type": "code",
      "execution_count": 68,
      "metadata": {
        "colab": {
          "base_uri": "https://localhost:8080/"
        },
        "id": "IkJB-l9zxLB0",
        "outputId": "5d70dd61-0c2c-48f9-d1cd-58f41644efbb"
      },
      "outputs": [
        {
          "name": "stdout",
          "output_type": "stream",
          "text": [
            "month_year\n",
            "2016-09       7\n",
            "2016-10     379\n",
            "2016-12       1\n",
            "2017-01     966\n",
            "2017-02    1998\n",
            "2017-03    3041\n",
            "2017-04    2697\n",
            "2017-05    4176\n",
            "2017-06    3611\n",
            "2017-07    4576\n",
            "2017-08    4948\n",
            "2017-09    4873\n",
            "2017-10    5385\n",
            "2017-11    8758\n",
            "2017-12    6357\n",
            "2018-01    8257\n",
            "2018-02    7706\n",
            "2018-03    8240\n",
            "2018-04    7980\n",
            "2018-05    7945\n",
            "2018-06    7085\n",
            "2018-07    7111\n",
            "2018-08    7308\n",
            "2018-09      16\n",
            "2018-10       4\n",
            "Freq: M, Name: count, dtype: int64\n"
          ]
        }
      ],
      "source": [
        "merged_df['month_year'] = merged_df['order_purchase_timestamp'].dt.to_period('M')\n",
        "monthwise_transactions = merged_df['month_year'].value_counts().sort_index()\n",
        "print(monthwise_transactions)"
      ]
    },
    {
      "cell_type": "markdown",
      "metadata": {
        "id": "HdDZO6_w4Ean"
      },
      "source": [
        "**Insight:**\n",
        "- Melakukan eksplorasi statistik deskriptif menggunakan describe() pada dataset ecommerce_df.\n",
        "- Menganalisis demografi pelanggan berdasarkan kota tempat tinggal.\n",
        "- Menganalisis demografi seller berdasarkan negara bagian (state) tempat mereka beroperasi.\n",
        "- Mengidentifikasi produk yang paling sering dibeli oleh pelanggan.\n",
        "- Mengidentifikasi kategori produk yang paling banyak dibeli.\n",
        "- Menganalisis kategori produk dengan harga rata-rata tertinggi.\n",
        "- Menganalisis distribusi waktu transaksi, mencakup: Per jam untuk melihat jam tersibuk transaksi, per hari dalam seminggu untuk melihat tren mingguan, per bulan untuk melihat tren musiman.\n"
      ]
    },
    {
      "cell_type": "markdown",
      "metadata": {
        "id": "zsyZjqak8DC2"
      },
      "source": [
        "## Visualization & Explanatory Analysis"
      ]
    },
    {
      "cell_type": "markdown",
      "metadata": {
        "id": "HZxOiQ6n8DC2"
      },
      "source": [
        "### Pertanyaan 1: Demografi Pelanggan. Di kota mana pelanggan e-commerce paling banyak berasal pada periode September 2016 - Oktober 2018?"
      ]
    },
    {
      "cell_type": "code",
      "execution_count": 69,
      "metadata": {
        "colab": {
          "base_uri": "https://localhost:8080/",
          "height": 677
        },
        "id": "1swJUdAD8DC2",
        "outputId": "3d8d0c30-dad9-472d-e8ea-90d6143fca73"
      },
      "outputs": [
        {
          "data": {
            "image/png": "[encoded data removed]",
            "text/plain": [
              "<Figure size 1200x600 with 1 Axes>"
            ]
          },
          "metadata": {},
          "output_type": "display_data"
        }
      ],
      "source": [
        "plt.figure(figsize=(12, 6))\n",
        "top_cities = customers_df[\"customer_city\"].value_counts().head(10)\n",
        "sns.barplot(x=top_cities.index, y=top_cities.values, color=\"steelblue\")\n",
        "for i, v in enumerate(top_cities.values):\n",
        "    plt.text(i, v + 5, str(v), ha=\"center\", fontsize=12)\n",
        "\n",
        "plt.xticks(rotation=45)\n",
        "plt.title(\"Top 10 Kota dengan Pelanggan Terbanyak (Sep 2016 - Okt 2018)\")\n",
        "plt.xlabel(\"Kota\")\n",
        "plt.ylabel(\"Jumlah Pelanggan\")\n",
        "plt.show()"
      ]
    },
    {
      "cell_type": "markdown",
      "metadata": {
        "id": "DgHI7CiU8DC2"
      },
      "source": [
        "### Pertanyaan 2: Demografi Seller. Di mana sebagian besar seller e-commerce berada pada periode September 2016 - Oktober 2018?"
      ]
    },
    {
      "cell_type": "code",
      "execution_count": 70,
      "metadata": {
        "colab": {
          "base_uri": "https://localhost:8080/",
          "height": 661
        },
        "id": "Go0lCsvO8DC2",
        "outputId": "c8602da4-1877-4a21-821c-9836c3cf6e68"
      },
      "outputs": [
        {
          "data": {
            "image/png": "[encoded data removed]",
            "text/plain": [
              "<Figure size 1200x600 with 1 Axes>"
            ]
          },
          "metadata": {},
          "output_type": "display_data"
        }
      ],
      "source": [
        "plt.figure(figsize=(12, 6))\n",
        "sns.barplot(x=seller_city_counts.index[:10],  y=seller_city_counts.values[:10],color=\"darkorange\")\n",
        "for i, value in enumerate(seller_city_counts.values[:10]):\n",
        "    plt.text(i, value + 2, str(value), ha=\"center\", fontsize=12)\n",
        "\n",
        "plt.xticks(rotation=45)\n",
        "plt.title(\"Top 10 Kota dengan Seller Terbanyak (Sep 2016 - Okt 2018)\")\n",
        "plt.xlabel(\"Kota\")\n",
        "plt.ylabel(\"Jumlah Seller\")\n",
        "plt.show()\n"
      ]
    },
    {
      "cell_type": "markdown",
      "metadata": {
        "id": "bi_7H49pm2Tz"
      },
      "source": [
        "### Pertanyaan 3: Bagaimana tren jumlah transaksi per jam, per hari dalam seminggu, dan per bulan pada periode September 2016 - Oktober 2018?"
      ]
    },
    {
      "cell_type": "code",
      "execution_count": 71,
      "metadata": {
        "colab": {
          "base_uri": "https://localhost:8080/",
          "height": 487
        },
        "id": "FJQLtATlyJBU",
        "outputId": "b16d959e-7352-4603-8664-20692bd6a3c3"
      },
      "outputs": [
        {
          "data": {
            "image/png": "[encoded data removed]",
            "text/plain": [
              "<Figure size 1000x500 with 1 Axes>"
            ]
          },
          "metadata": {},
          "output_type": "display_data"
        }
      ],
      "source": [
        "plt.figure(figsize=(10,5))\n",
        "sns.lineplot(x=hourly_transactions.index, y=hourly_transactions.values, marker='o', color='b')\n",
        "plt.title('Tren Transaksi per Jam')\n",
        "plt.xlabel('Jam')\n",
        "plt.ylabel('Jumlah Transaksi')\n",
        "plt.xticks(range(0,24))\n",
        "plt.grid(True)\n",
        "plt.show()"
      ]
    },
    {
      "cell_type": "markdown",
      "metadata": {
        "id": "Qc6QhKbunlR7"
      },
      "source": [
        "### Pertanyaan 4: Produk apa yang paling sering dibeli pada periode September 2016 - Oktober 2018?"
      ]
    },
    {
      "cell_type": "code",
      "execution_count": 72,
      "metadata": {
        "colab": {
          "base_uri": "https://localhost:8080/",
          "height": 552
        },
        "id": "SVBZ8mcZnrDp",
        "outputId": "1ac8d506-b898-42e1-dcc9-16c78ed17a0e"
      },
      "outputs": [
        {
          "data": {
            "image/png": "[encoded data removed]",
            "text/plain": [
              "<Figure size 1200x600 with 1 Axes>"
            ]
          },
          "metadata": {},
          "output_type": "display_data"
        }
      ],
      "source": [
        "top_products = merged_df[\"product_id\"].value_counts().head(10).reset_index()\n",
        "top_products.columns = [\"product_id\", \"total_orders\"]\n",
        "\n",
        "top_products = top_products.merge(\n",
        "    merged_df[[\"product_id\", \"product_category_name_english\"]].drop_duplicates(),\n",
        "    on=\"product_id\",\n",
        "    how=\"left\"\n",
        ")\n",
        "\n",
        "top_products[\"product_label\"] = (\n",
        "    top_products[\"product_category_name_english\"] + \" (\" + top_products[\"total_orders\"].astype(str) + \")\"\n",
        ")\n",
        "\n",
        "plt.figure(figsize=(12, 6))\n",
        "sns.barplot(x=\"total_orders\", y=\"product_label\", data=top_products, color=\"royalblue\")\n",
        "\n",
        "for i, value in enumerate(top_products[\"total_orders\"]):\n",
        "    plt.text(value + 2, i, str(value), va=\"center\", fontsize=12)\n",
        "\n",
        "plt.xlabel(\"Jumlah Transaksi\")\n",
        "plt.ylabel(\"Kategori Produk\")\n",
        "plt.title(\"Top 10 Produk yang Paling Sering Dibeli\")\n",
        "plt.show()\n"
      ]
    },
    {
      "cell_type": "markdown",
      "metadata": {
        "id": "WxrxSnbVnrXZ"
      },
      "source": [
        "### Pertanyaan 5: Kategori produk apa yang paling banyak dibeli oleh pelanggan pada periode September 2016 - Oktober 2018?"
      ]
    },
    {
      "cell_type": "code",
      "execution_count": 73,
      "metadata": {
        "colab": {
          "base_uri": "https://localhost:8080/",
          "height": 564
        },
        "id": "HG9uCESonxO0",
        "outputId": "f3b161d1-b51b-412e-ea4e-9fa7d2d6ac83"
      },
      "outputs": [
        {
          "data": {
            "image/png": "[encoded data removed]",
            "text/plain": [
              "<Figure size 1200x600 with 1 Axes>"
            ]
          },
          "metadata": {},
          "output_type": "display_data"
        }
      ],
      "source": [
        "top_categories = merged_df[\"product_category_name_english\"].value_counts().head(10).reset_index()\n",
        "top_categories.columns = [\"product_category_name_english\", \"total_orders\"]\n",
        "\n",
        "plt.figure(figsize=(12, 6))\n",
        "sns.barplot(\n",
        "    x=\"total_orders\",\n",
        "    y=\"product_category_name_english\",\n",
        "    data=top_categories,\n",
        "    color=\"skyblue\"\n",
        ")\n",
        "\n",
        "plt.xlabel(\"Jumlah Transaksi\")\n",
        "plt.ylabel(\"Kategori Produk\")\n",
        "plt.title(\"Top 10 Kategori Produk yang Paling Banyak Terjual\")\n",
        "\n",
        "for index, value in enumerate(top_categories[\"total_orders\"]):\n",
        "    plt.text(value + 5, index, str(value), va='center', fontsize=10)\n",
        "\n",
        "plt.show()"
      ]
    },
    {
      "cell_type": "markdown",
      "metadata": {
        "id": "_0-36BDLklRg"
      },
      "source": [
        "**Insight:**\n",
        "- Pertanyaan 1:\n",
        "São Paulo dan Rio de Janeiro adalah kota dengan potensi pasar terbesar untuk e-commerce. Kota-kota lain seperti Belo Horizonte dan Brasília juga berperan penting meskipun jumlah pelanggan lebih sedikit. Jika ingin melakukan ekspansi bisnis e-commerce, strategi pemasaran bisa difokuskan di São Paulo dan Rio de Janeiro terlebih dahulu sebelum menjangkau kota-kota lainnya.\n",
        "\n",
        "- Pertanyaan 2:\n",
        "1. São Paulo memiliki jumlah seller terbanyak dengan 28.758 seller, jauh lebih tinggi dibandingkan kota lain.Hal ini menunjukkan bahwa São Paulo mungkin merupakan pusat bisnis utama dalam platform e-commerce ini.\n",
        "2. Kota dengan jumlah seller terbanyak kedua, Ibitinga, memiliki 7.750 seller, yang jauh lebih kecil dibandingkan São Paulo. Setelah Ibitinga, jumlah seller di kota-kota lainnya jauh lebih merata, berkisar antara 2.200 - 3.000 seller.\n",
        "3. Kota-kota seperti Curitiba, Santo André, Belo Horizonte, dan Rio de Janeiro memiliki jumlah seller yang cukup banyak, menunjukkan bahwa mereka juga merupakan pusat perdagangan yang signifikan. Perusahaan dapat mempertimbangkan ekspansi atau strategi pemasaran yang lebih kuat di kota-kota ini untuk meningkatkan transaksi.\n",
        "\n",
        "- Pertanyaan 3:\n",
        "Tren Transaksi per Jam\n",
        "1. Jumlah transaksi sangat rendah antara pukul 01:00 hingga 06:00. Hal ini karena sebagian pelanggan mungkin sedang tidur atau tidak aktif berbelanja online.\n",
        "2. Jumlah transaksi mulai meningkat secara tajam setelah pukul 06:00, dengan lonjakan yang signifikan sekitar pukul 08:00 - 10:00. Ini bisa menunjukkan bahwa pelanggan mulai berbelanja setelah bangun tidur atau sebelum memulai aktivitas harian mereka.\n",
        "3. Puncak transaksi terjadi antara pukul 11:00 hingga 16:00, dengan jumlah transaksi tertinggi sekitar pukul 12:00 - 14:00. Ini menunjukkan bahwa banyak pelanggan melakukan pembelian saat jam istirahat kerja atau makan siang.\n",
        "4. Terjadi sedikit penurunan transaksi setelah pukul 16:00, kemungkinan karena orang-orang sedang dalam perjalanan pulang kerja atau sekolah.\n",
        "5. Aktivitas transaksi kembali stabil di malam hari, dengan banyak pelanggan masih aktif berbelanja setelah pukul 19:00 hingga 22:00. Ini bisa mencerminkan kebiasaan pelanggan yang lebih santai saat berbelanja di malam hari setelah menyelesaikan aktivitas harian mereka.\n",
        "6. Setelah pukul 22:00, jumlah transaksi mulai menurun kembali, kemungkinan karena banyak orang sudah mulai beristirahat.\n",
        "\n",
        "- Pertanyaan 4:\n",
        "1. Produk dengan kategori bed_bath_table muncul dua kali di daftar dengan transaksi tertinggi (775 dan 488). Ini menunjukkan permintaan tinggi untuk produk kamar tidur dan kamar mandi.\n",
        "2. Furniture_decor menempati posisi kedua (527 transaksi). Grden_tools muncul sebanyak empat kali dengan transaksi berkisar antara 373 hingga 484.\n",
        "Ini menunjukkan bahwa pelanggan banyak membeli produk untuk mendekorasi rumah dan berkebun.\n",
        "3. Computers_accessories (343 transaksi) menunjukkan bahwa aksesori komputer masih banyak dibeli. Watches_gifts (323 transaksi) menunjukkan adanya permintaan untuk produk fesyen & hadiah. Health_beauty (281 transaksi) mengindikasikan bahwa kategori kecantikan dan kesehatan juga cukup populer.\n",
        "\n",
        "- Pertanyaan 5:\n",
        "Kategori bed_bath_table mendominasi penjualan dengan 13.517 transaksi, diikuti oleh health_beauty (9.670) dan sports_leisure (8.641), menunjukkan tingginya minat pelanggan terhadap produk rumah tangga, kesehatan, dan olahraga. Kategori seperti furniture_decor dan computers_accessories juga cukup laris, mengindikasikan permintaan stabil untuk dekorasi rumah dan teknologi. Selain itu, housewares, watches_gifts, dan telephony menunjukkan potensi pertumbuhan yang dapat dimanfaatkan dengan strategi pemasaran yang tepat. Untuk meningkatkan penjualan, promosi dan bundling produk best seller, serta fokus pada tren kesehatan dan teknologi, dapat menjadi strategi yang efektif.\n",
        "\n",
        "\n"
      ]
    },
    {
      "cell_type": "markdown",
      "metadata": {
        "id": "9y4VUsmcYNZ5"
      },
      "source": [
        "## Analisis Lanjutan (Opsional)"
      ]
    },
    {
      "cell_type": "code",
      "execution_count": null,
      "metadata": {
        "id": "c9dNayI3FrXi"
      },
      "outputs": [],
      "source": []
    },
    {
      "cell_type": "markdown",
      "metadata": {
        "id": "_WeHlCeX8DC2"
      },
      "source": [
        "## Conclusion"
      ]
    },
    {
      "cell_type": "markdown",
      "metadata": {
        "id": "ZTcyR48Y8DC2"
      },
      "source": [
        "- Conclusion pertanyaan 1: São Paulo dan Rio de Janeiro memiliki potensi pasar terbesar untuk e-commerce, sehingga strategi ekspansi bisnis sebaiknya difokuskan pada kedua kota ini sebelum merambah ke wilayah lain seperti Belo Horizonte dan Brasília.\n",
        "- Conclusion pertanyaan 2: São Paulo adalah pusat utama seller di platform e-commerce ini, dengan jumlah seller jauh lebih tinggi dibandingkan kota lain. Kota-kota seperti Ibitinga, Curitiba, Santo André, Belo Horizonte, dan Rio de Janeiro juga memiliki jumlah seller yang cukup signifikan, sehingga strategi pemasaran dapat diperkuat di kota-kota tersebut untuk meningkatkan transaksi.\n",
        "- Conclusion pertanyaan 3: Aktivitas belanja online cenderung meningkat dari pagi hingga siang hari, dengan puncak transaksi terjadi pada pukul 12:00 - 14:00. Hari Senin menjadi hari dengan transaksi terbanyak, sementara Sabtu memiliki jumlah transaksi terendah. Secara bulanan, jumlah transaksi mencapai puncaknya pada November 2017, menunjukkan dampak dari momen belanja besar seperti Black Friday.\n",
        "- Conclusion pertanyaan 4: Produk dalam kategori bed_bath_table, furniture_decor, dan garden_tools memiliki tingkat permintaan tinggi, menunjukkan bahwa pelanggan tertarik dengan produk dekorasi rumah dan perlengkapan berkebun. Selain itu, kategori computers_accessories, watches_gifts, dan health_beauty tetap memiliki pasar yang stabil.\n",
        "- Conclusion pertanyaan 5: Produk rumah tangga, kesehatan, dan olahraga mendominasi penjualan, dengan kategori bed_bath_table sebagai yang paling laris. Untuk meningkatkan penjualan lebih lanjut, strategi pemasaran yang berfokus pada promosi, bundling produk populer, serta penyesuaian tren kesehatan dan teknologi dapat diterapkan."
      ]
    }
  ],
  "metadata": {
    "colab": {
      "provenance": []
    },
    "kernelspec": {
      "display_name": "Python 3",
      "language": "python",
      "name": "python3"
    },
    "language_info": {
      "codemirror_mode": {
        "name": "ipython",
        "version": 3
      },
      "file_extension": ".py",
      "mimetype": "text/x-python",
      "name": "python",
      "nbconvert_exporter": "python",
      "pygments_lexer": "ipython3",
      "version": "3.13.2"
    },
    "orig_nbformat": 4,
    "vscode": {
      "interpreter": {
        "hash": "972b3bf27e332e87b5379f2791f6ef9dfc79c71018c370b0d7423235e20fe4d7"
      }
    }
  },
  "nbformat": 4,
  "nbformat_minor": 0
}
